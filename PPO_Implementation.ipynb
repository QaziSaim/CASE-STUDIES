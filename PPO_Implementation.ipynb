{
  "nbformat": 4,
  "nbformat_minor": 0,
  "metadata": {
    "colab": {
      "provenance": [],
      "authorship_tag": "ABX9TyO/JQHRZJHhkjcms0o6pZeB",
      "include_colab_link": true
    },
    "kernelspec": {
      "name": "python3",
      "display_name": "Python 3"
    },
    "language_info": {
      "name": "python"
    }
  },
  "cells": [
    {
      "cell_type": "markdown",
      "metadata": {
        "id": "view-in-github",
        "colab_type": "text"
      },
      "source": [
        "<a href=\"https://colab.research.google.com/github/QaziSaim/CASE-STUDIES/blob/main/PPO_Implementation.ipynb\" target=\"_parent\"><img src=\"https://colab.research.google.com/assets/colab-badge.svg\" alt=\"Open In Colab\"/></a>"
      ]
    },
    {
      "cell_type": "markdown",
      "source": [
        "Nice — here’s a concrete math problem about PPO’s clipped surrogate objective, solved step-by-step.\n",
        "\n",
        "### Problem\n",
        "\n",
        "You collected three timesteps. For each timestep you have:\n",
        "\n",
        "* Old policy probability ( \\pi_{\\text{old}}(a|s) = [0.20,\\ 0.80,\\ 0.50] )\n",
        "* New policy probability ( \\pi_{\\theta}(a|s) = [0.25,\\ 0.60,\\ 0.75] )\n",
        "* Advantage estimates ( A = [1.5,\\ -2.0,\\ 0.5] )\n",
        "  Use clipping parameter ( \\varepsilon = 0.20 ).\n",
        "  Compute the PPO clipped surrogate objective\n",
        "  [\n",
        "  L^{CLIP}(\\theta) = \\frac{1}{N}\\sum_{t=1}^{N} \\min\\big( r_t A_t,\\ \\text{clip}(r_t,1-\\varepsilon,1+\\varepsilon),A_t \\big),\n",
        "  ]\n",
        "  where ( r_t = \\frac{\\pi_{\\theta}(a_t|s_t)}{\\pi_{\\text{old}}(a_t|s_t)} ).\n",
        "\n",
        "---\n",
        "\n",
        "### Solution (digit-by-digit arithmetic)\n",
        "\n",
        "1. Compute probability ratios ( r_t ):\n",
        "\n",
        "* ( r_1 = 0.25 / 0.20 = 1.25 )\n",
        "* ( r_2 = 0.60 / 0.80 = 0.75 )\n",
        "* ( r_3 = 0.75 / 0.50 = 1.50 )\n",
        "\n",
        "2. Compute unclipped terms ( r_t A_t ):\n",
        "\n",
        "* ( r_1 A_1 = 1.25 \\times 1.5 = 1.875 )\n",
        "* ( r_2 A_2 = 0.75 \\times (-2.0) = -1.5 )\n",
        "* ( r_3 A_3 = 1.50 \\times 0.5 = 0.75 )\n",
        "\n",
        "3. Clip each ( r_t ) to ([1-\\varepsilon,,1+\\varepsilon] = [0.8,,1.2]):\n",
        "\n",
        "* ( \\text{clip}(r_1) = \\text{clip}(1.25) = 1.20 )\n",
        "* ( \\text{clip}(r_2) = \\text{clip}(0.75) = 0.80 )\n",
        "* ( \\text{clip}(r_3) = \\text{clip}(1.50) = 1.20 )\n",
        "\n",
        "4. Compute clipped terms ( \\text{clip}(r_t)A_t ):\n",
        "\n",
        "* clipped(_1) = (1.20 \\times 1.5 = 1.80)\n",
        "* clipped(_2) = (0.80 \\times (-2.0) = -1.60)\n",
        "* clipped(_3) = (1.20 \\times 0.5 = 0.60)\n",
        "\n",
        "5. For each timestep take the minimum between the unclipped and clipped term (PPO uses ( \\min(\\cdot) ) because we maximize):\n",
        "\n",
        "* timestep1: ( \\min(1.875,\\ 1.80) = 1.80 )\n",
        "* timestep2: ( \\min(-1.5,\\ -1.60) = -1.60 )  *(smaller is -1.60)*\n",
        "* timestep3: ( \\min(0.75,\\ 0.60) = 0.60 )\n",
        "\n",
        "6. Average to get ( L^{CLIP} ):\n",
        "   [\n",
        "   L^{CLIP} = \\frac{1.80 + (-1.60) + 0.60}{3} = \\frac{0.80}{3} = 0.266666\\ldots\n",
        "   ]\n",
        "   So ( L^{CLIP} \\approx 0.2667 ).\n",
        "\n",
        "If you implement PPO as a minimization of loss, you'd use loss ( = -L^{CLIP} \\approx -0.2667 ).\n",
        "\n",
        "---\n",
        "\n",
        "Want another example with different ( \\varepsilon ), or to see how the gradient sign would look for one sample?\n"
      ],
      "metadata": {
        "id": "241p8mFP8kcY"
      }
    },
    {
      "cell_type": "code",
      "source": [
        "old_policy_pr = [0.20, 0.80, 0.50]\n",
        "new_policy_pr = [0.25, 0.60, 0.75]\n",
        "advantages_estimates = [1.5, -2.0, 0.5]\n",
        "epsilon = 0.2\n"
      ],
      "metadata": {
        "id": "6EcWc7yZ8aB_"
      },
      "execution_count": null,
      "outputs": []
    },
    {
      "cell_type": "code",
      "source": [
        "rt = [round(x/y,5) for x,y in zip(new_policy_pr,old_policy_pr)]"
      ],
      "metadata": {
        "id": "5EXJWxaS89sC"
      },
      "execution_count": null,
      "outputs": []
    },
    {
      "cell_type": "code",
      "source": [
        "rt"
      ],
      "metadata": {
        "colab": {
          "base_uri": "https://localhost:8080/"
        },
        "id": "ALW1uvHl9JY7",
        "outputId": "1b7fe18d-7600-49f0-81d4-809ca1824675"
      },
      "execution_count": null,
      "outputs": [
        {
          "output_type": "execute_result",
          "data": {
            "text/plain": [
              "[1.25, 0.75, 1.5]"
            ]
          },
          "metadata": {},
          "execution_count": 9
        }
      ]
    },
    {
      "cell_type": "code",
      "source": [
        "rtAt = [x*y for x,y in zip(rt,advantages_estimates)]"
      ],
      "metadata": {
        "id": "r9YYl0_99Js6"
      },
      "execution_count": null,
      "outputs": []
    },
    {
      "cell_type": "code",
      "source": [
        "rtAt"
      ],
      "metadata": {
        "colab": {
          "base_uri": "https://localhost:8080/"
        },
        "id": "XZk0yTPH9ekV",
        "outputId": "9a5d1935-1169-4a9b-bbd8-b876b302bfea"
      },
      "execution_count": null,
      "outputs": [
        {
          "output_type": "execute_result",
          "data": {
            "text/plain": [
              "[1.875, -1.5, 0.75]"
            ]
          },
          "metadata": {},
          "execution_count": 11
        }
      ]
    },
    {
      "cell_type": "code",
      "source": [
        "upper = 1 + epsilon\n",
        "lower = 1 - epsilon"
      ],
      "metadata": {
        "id": "7AG9Xcn89fNz"
      },
      "execution_count": null,
      "outputs": []
    },
    {
      "cell_type": "code",
      "source": [
        "clip_rt = []\n",
        "for i in rt:\n",
        "  if i>=upper:\n",
        "    clip_rt.append(upper)\n",
        "  if i<=lower:\n",
        "    clip_rt.append(lower)"
      ],
      "metadata": {
        "id": "1F1JIlkr9qcr"
      },
      "execution_count": null,
      "outputs": []
    },
    {
      "cell_type": "code",
      "source": [
        "clip_rt"
      ],
      "metadata": {
        "colab": {
          "base_uri": "https://localhost:8080/"
        },
        "id": "APEPrHPs94tJ",
        "outputId": "2d280041-79b3-43b0-99e2-ec2662c8b3bc"
      },
      "execution_count": null,
      "outputs": [
        {
          "output_type": "execute_result",
          "data": {
            "text/plain": [
              "[1.2, 0.8, 1.2]"
            ]
          },
          "metadata": {},
          "execution_count": 14
        }
      ]
    },
    {
      "cell_type": "code",
      "source": [
        "clip_rt_x_at = [round(x*y,3) for x,y in zip(clip_rt,advantages_estimates)]"
      ],
      "metadata": {
        "id": "oeZu9YTc95rL"
      },
      "execution_count": null,
      "outputs": []
    },
    {
      "cell_type": "code",
      "source": [
        "clip_rt_x_at"
      ],
      "metadata": {
        "colab": {
          "base_uri": "https://localhost:8080/"
        },
        "id": "PwsVWyxY-GlH",
        "outputId": "1b05d789-792d-41e3-a30b-f1f43b2283d8"
      },
      "execution_count": null,
      "outputs": [
        {
          "output_type": "execute_result",
          "data": {
            "text/plain": [
              "[1.8, -1.6, 0.6]"
            ]
          },
          "metadata": {},
          "execution_count": 19
        }
      ]
    },
    {
      "cell_type": "code",
      "source": [
        "rtAt"
      ],
      "metadata": {
        "colab": {
          "base_uri": "https://localhost:8080/"
        },
        "id": "0AC3KRLx-at_",
        "outputId": "2718d4bb-729a-47f3-9e3a-7398cea7f88e"
      },
      "execution_count": null,
      "outputs": [
        {
          "output_type": "execute_result",
          "data": {
            "text/plain": [
              "[1.875, -1.5, 0.75]"
            ]
          },
          "metadata": {},
          "execution_count": 21
        }
      ]
    },
    {
      "cell_type": "code",
      "source": [
        "min_timestep = [min(x,y) for x,y in zip(rtAt,clip_rt_x_at)]"
      ],
      "metadata": {
        "id": "O3WqMdoX-JF9"
      },
      "execution_count": null,
      "outputs": []
    },
    {
      "cell_type": "code",
      "source": [
        "min_timestep"
      ],
      "metadata": {
        "colab": {
          "base_uri": "https://localhost:8080/"
        },
        "id": "EcOKdAW4-jox",
        "outputId": "c9fee8bc-ddb5-4536-eb3c-3d49b12537dc"
      },
      "execution_count": null,
      "outputs": [
        {
          "output_type": "execute_result",
          "data": {
            "text/plain": [
              "[1.8, -1.6, 0.6]"
            ]
          },
          "metadata": {},
          "execution_count": 24
        }
      ]
    },
    {
      "cell_type": "code",
      "source": [
        "L_clip = sum(min_timestep)/len(min_timestep)"
      ],
      "metadata": {
        "id": "UwCeFCpf-l0C"
      },
      "execution_count": null,
      "outputs": []
    },
    {
      "cell_type": "code",
      "source": [
        "L_clip"
      ],
      "metadata": {
        "colab": {
          "base_uri": "https://localhost:8080/"
        },
        "id": "LDxYB0ki-vkG",
        "outputId": "8a07ee12-9d25-4205-97b0-a520e92f7c57"
      },
      "execution_count": null,
      "outputs": [
        {
          "output_type": "execute_result",
          "data": {
            "text/plain": [
              "0.26666666666666666"
            ]
          },
          "metadata": {},
          "execution_count": 26
        }
      ]
    },
    {
      "cell_type": "code",
      "source": [
        "print('Final L clip found ', round(L_clip,4))"
      ],
      "metadata": {
        "colab": {
          "base_uri": "https://localhost:8080/"
        },
        "id": "GRi0vRmZ-wXd",
        "outputId": "e43932a8-b965-4c98-f397-0354e199e175"
      },
      "execution_count": null,
      "outputs": [
        {
          "output_type": "stream",
          "name": "stdout",
          "text": [
            "Final L clip found  0.2667\n"
          ]
        }
      ]
    },
    {
      "cell_type": "markdown",
      "source": [
        "### CartPole"
      ],
      "metadata": {
        "id": "eHkjAIlrgIIV"
      }
    },
    {
      "cell_type": "code",
      "source": [
        "old_policy = [[0.60,0.40],[0.70,0.30],[0.20,0.80],[0.55,0.45]]\n",
        "new_policy = [[0.65,0.35],[0.50,0.50],[0.30,0.70],[0.60,0.40]]\n",
        "actions = [0, 1, 1, 0]\n",
        "advatages = [1.2, -0.5, 0.8, 0.3]\n",
        "clipping_parameter = 0.20\n",
        "cp_range = [0.8, 1.2]\n",
        "v_pred = [1.5, 0.2, 0.9, 0.1]\n",
        "v_target = [2.0, -0.3, 1.5, 0.2]\n",
        "## Hyperparameters\n",
        "c1 = 0.5# value_loss_coefficient\n",
        "c2= 0.01 # entropy coefficient"
      ],
      "metadata": {
        "id": "NeYow4Ya-38m"
      },
      "execution_count": 1,
      "outputs": []
    },
    {
      "cell_type": "code",
      "source": [
        "import numpy as np\n",
        "old_policy = np.array(old_policy)\n",
        "new_policy = np.array(new_policy)\n",
        "advatages = np.array(advatages)"
      ],
      "metadata": {
        "id": "-5tx91ZmgSld"
      },
      "execution_count": 2,
      "outputs": []
    },
    {
      "cell_type": "code",
      "source": [
        "rt = new_policy[np.arange(len(actions)), actions] / old_policy[np.arange(len(actions)), actions]"
      ],
      "metadata": {
        "id": "sIEEEWabYD6O"
      },
      "execution_count": 3,
      "outputs": []
    },
    {
      "cell_type": "code",
      "source": [
        "rt"
      ],
      "metadata": {
        "colab": {
          "base_uri": "https://localhost:8080/"
        },
        "id": "HloZMT6VYnrm",
        "outputId": "fa89446d-1e63-4cf5-b130-2b680c9029d8"
      },
      "execution_count": 4,
      "outputs": [
        {
          "output_type": "execute_result",
          "data": {
            "text/plain": [
              "array([1.08333333, 1.66666667, 0.875     , 1.09090909])"
            ]
          },
          "metadata": {},
          "execution_count": 4
        }
      ]
    },
    {
      "cell_type": "code",
      "source": [
        "rtAt=rt*advatages"
      ],
      "metadata": {
        "id": "Vuz7zTgoTdB5"
      },
      "execution_count": 5,
      "outputs": []
    },
    {
      "cell_type": "code",
      "source": [
        "rtAt"
      ],
      "metadata": {
        "colab": {
          "base_uri": "https://localhost:8080/"
        },
        "id": "coEbQYItYiBQ",
        "outputId": "95f7cb25-6a54-4b86-e27c-55f86bc8d30c"
      },
      "execution_count": 6,
      "outputs": [
        {
          "output_type": "execute_result",
          "data": {
            "text/plain": [
              "array([ 1.3       , -0.83333333,  0.7       ,  0.32727273])"
            ]
          },
          "metadata": {},
          "execution_count": 6
        }
      ]
    },
    {
      "cell_type": "code",
      "source": [
        "clipRt = np.clip(rt,1 - clipping_parameter, 1+ clipping_parameter)"
      ],
      "metadata": {
        "id": "w5N055TlWm10"
      },
      "execution_count": 7,
      "outputs": []
    },
    {
      "cell_type": "code",
      "source": [
        "clipRt"
      ],
      "metadata": {
        "id": "Z6CUeDL6kOA5",
        "colab": {
          "base_uri": "https://localhost:8080/"
        },
        "outputId": "980c8e40-acdf-451a-d094-ebdcedd5f216"
      },
      "execution_count": 8,
      "outputs": [
        {
          "output_type": "execute_result",
          "data": {
            "text/plain": [
              "array([1.08333333, 1.2       , 0.875     , 1.09090909])"
            ]
          },
          "metadata": {},
          "execution_count": 8
        }
      ]
    },
    {
      "cell_type": "code",
      "source": [
        "cRcT = clipRt * advatages"
      ],
      "metadata": {
        "id": "3CCNLdFAWk2b"
      },
      "execution_count": 9,
      "outputs": []
    },
    {
      "cell_type": "code",
      "source": [
        "min_terms = np.array([min(x,y) for x,y in zip(rtAt,cRcT)])"
      ],
      "metadata": {
        "id": "k2FkcR5sZhBF"
      },
      "execution_count": 10,
      "outputs": []
    },
    {
      "cell_type": "code",
      "source": [
        "final_sum = sum(min_terms)"
      ],
      "metadata": {
        "id": "9Bochcf2ZtVP"
      },
      "execution_count": 11,
      "outputs": []
    },
    {
      "cell_type": "code",
      "source": [
        "final_sum"
      ],
      "metadata": {
        "colab": {
          "base_uri": "https://localhost:8080/"
        },
        "id": "cbon38_7W-m1",
        "outputId": "a080ccf2-9209-44cd-9baa-14af38837616"
      },
      "execution_count": 12,
      "outputs": [
        {
          "output_type": "execute_result",
          "data": {
            "text/plain": [
              "np.float64(1.4939393939393937)"
            ]
          },
          "metadata": {},
          "execution_count": 12
        }
      ]
    },
    {
      "cell_type": "code",
      "source": [
        "lclip  = final_sum/4"
      ],
      "metadata": {
        "id": "uyNl27zaXNDy"
      },
      "execution_count": 13,
      "outputs": []
    },
    {
      "cell_type": "code",
      "source": [
        "print(lclip)"
      ],
      "metadata": {
        "id": "LSqRdlr9aU-9",
        "outputId": "eaab7273-07d1-47f9-b685-5278921910ff",
        "colab": {
          "base_uri": "https://localhost:8080/"
        }
      },
      "execution_count": 14,
      "outputs": [
        {
          "output_type": "stream",
          "name": "stdout",
          "text": [
            "0.3734848484848484\n"
          ]
        }
      ]
    },
    {
      "cell_type": "code",
      "source": [
        "mse = sum(np.array([(x-y)**2 for x,y in zip(v_pred,v_target)]))/4"
      ],
      "metadata": {
        "id": "9z6kJQmXWoP5"
      },
      "execution_count": 20,
      "outputs": []
    },
    {
      "cell_type": "code",
      "source": [
        "mse"
      ],
      "metadata": {
        "colab": {
          "base_uri": "https://localhost:8080/"
        },
        "id": "D2sxuKmrlToV",
        "outputId": "2f751634-21ce-4406-e3e2-68b6e90e5678"
      },
      "execution_count": 21,
      "outputs": [
        {
          "output_type": "execute_result",
          "data": {
            "text/plain": [
              "np.float64(0.2175)"
            ]
          },
          "metadata": {},
          "execution_count": 21
        }
      ]
    },
    {
      "cell_type": "code",
      "source": [
        "small_epsilo = 1e-10\n",
        "new_policy_entropy = -np.sum(new_policy * np.log(new_policy + small_epsilo),axis=1)\n",
        "avg_entropy = np.mean(new_policy_entropy)\n"
      ],
      "metadata": {
        "id": "0SHLdRzslVWo"
      },
      "execution_count": 23,
      "outputs": []
    },
    {
      "cell_type": "code",
      "source": [
        "new_policy_entropy"
      ],
      "metadata": {
        "colab": {
          "base_uri": "https://localhost:8080/"
        },
        "id": "Or6rkrBsmVcB",
        "outputId": "edf42aa8-88d4-4f37-d596-f5313e0b7ad5"
      },
      "execution_count": 24,
      "outputs": [
        {
          "output_type": "execute_result",
          "data": {
            "text/plain": [
              "array([0.64744664, 0.69314718, 0.6108643 , 0.67301167])"
            ]
          },
          "metadata": {},
          "execution_count": 24
        }
      ]
    },
    {
      "cell_type": "code",
      "source": [
        "avg_entropy"
      ],
      "metadata": {
        "colab": {
          "base_uri": "https://localhost:8080/"
        },
        "id": "T2BAmeQMmYzi",
        "outputId": "3ca5ad4a-8abe-4c17-9533-6e8d7fe419eb"
      },
      "execution_count": 25,
      "outputs": [
        {
          "output_type": "execute_result",
          "data": {
            "text/plain": [
              "np.float64(0.6561174469646819)"
            ]
          },
          "metadata": {},
          "execution_count": 25
        }
      ]
    },
    {
      "cell_type": "code",
      "source": [
        "c1*mse,c2*avg_entropy,lclip"
      ],
      "metadata": {
        "colab": {
          "base_uri": "https://localhost:8080/"
        },
        "id": "S7j66Eh8mxjp",
        "outputId": "bf6f4935-c3ea-40dd-fef6-db8a71551544"
      },
      "execution_count": 32,
      "outputs": [
        {
          "output_type": "execute_result",
          "data": {
            "text/plain": [
              "(np.float64(0.10875),\n",
              " np.float64(0.006561174469646819),\n",
              " np.float64(0.3734848484848484))"
            ]
          },
          "metadata": {},
          "execution_count": 32
        }
      ]
    },
    {
      "cell_type": "code",
      "source": [
        "loss = -lclip + (c1*mse - c2*avg_entropy)"
      ],
      "metadata": {
        "id": "moVKamW_mZ82"
      },
      "execution_count": 33,
      "outputs": []
    },
    {
      "cell_type": "code",
      "source": [
        "loss"
      ],
      "metadata": {
        "colab": {
          "base_uri": "https://localhost:8080/"
        },
        "id": "ZLp1UC6DnA4x",
        "outputId": "9a3d7ebf-a91e-46b3-f8cd-049a05e4a065"
      },
      "execution_count": 34,
      "outputs": [
        {
          "output_type": "execute_result",
          "data": {
            "text/plain": [
              "np.float64(-0.27129602295449523)"
            ]
          },
          "metadata": {},
          "execution_count": 34
        }
      ]
    },
    {
      "cell_type": "code",
      "source": [],
      "metadata": {
        "id": "GiGXNIxcnBSj"
      },
      "execution_count": null,
      "outputs": []
    }
  ]
}