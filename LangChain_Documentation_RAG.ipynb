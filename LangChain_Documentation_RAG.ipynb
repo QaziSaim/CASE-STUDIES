{
  "nbformat": 4,
  "nbformat_minor": 0,
  "metadata": {
    "colab": {
      "provenance": [],
      "authorship_tag": "ABX9TyOEer24VA6fbhJ7JUNeJwfI",
      "include_colab_link": true
    },
    "kernelspec": {
      "name": "python3",
      "display_name": "Python 3"
    },
    "language_info": {
      "name": "python"
    }
  },
  "cells": [
    {
      "cell_type": "markdown",
      "metadata": {
        "id": "view-in-github",
        "colab_type": "text"
      },
      "source": [
        "<a href=\"https://colab.research.google.com/github/QaziSaim/CASE-STUDIES/blob/main/LangChain_Documentation_RAG.ipynb\" target=\"_parent\"><img src=\"https://colab.research.google.com/assets/colab-badge.svg\" alt=\"Open In Colab\"/></a>"
      ]
    },
    {
      "cell_type": "code",
      "source": [
        "%%capture\n",
        "%pip install --quiet --upgrade langchain-text-splitters langchain-community langgraph\n",
        "%pip install -U langchain-google-genai\n",
        "%pip install -qU langchain-huggingface\n",
        "%pip install -qU langchain-pinecone"
      ],
      "metadata": {
        "id": "Tu5Nfdg537Dy"
      },
      "execution_count": 20,
      "outputs": []
    },
    {
      "cell_type": "code",
      "execution_count": 21,
      "metadata": {
        "id": "cYmxdUnq22y9"
      },
      "outputs": [],
      "source": [
        "from google.colab import userdata\n",
        "langsmith_api = userdata.get('langsmith_api')\n",
        "gemini_api = userdata.get('GEMINI_API')\n",
        "hugging_face_api = userdata.get('HUGGINGFACE_API')\n",
        "pinecone_api_key = userdata.get('PINECONE_API')"
      ]
    },
    {
      "cell_type": "code",
      "source": [
        "import getpass\n",
        "import os\n",
        "os.environ['LANGSMITH_TRACING'] = 'true'\n",
        "os.environ['LANGSMITH_API_KEY'] = langsmith_api\n",
        "os.environ[\"GOOGLE_API_KEY\"]  = gemini_api\n",
        "os.environ['HUGGINGFACE_API_KEY'] = hugging_face_api\n",
        "os.environ['PINECONE_API_KEY'] = pinecone_api_key"
      ],
      "metadata": {
        "id": "idu8nldg3Lss"
      },
      "execution_count": 22,
      "outputs": []
    },
    {
      "cell_type": "code",
      "source": [
        "from langchain.chat_models import init_chat_model\n",
        "\n",
        "llm = init_chat_model(\"gemini-2.5-flash\", model_provider=\"google_genai\")\n",
        "\n"
      ],
      "metadata": {
        "id": "mQmAXheq3o2X"
      },
      "execution_count": 23,
      "outputs": []
    },
    {
      "cell_type": "code",
      "source": [
        "# llm.invoke('Do you know about decoder only model??')"
      ],
      "metadata": {
        "id": "3DRng67t4AJq"
      },
      "execution_count": 24,
      "outputs": []
    },
    {
      "cell_type": "code",
      "source": [
        "from langchain_huggingface import HuggingFaceEmbeddings\n",
        "embeddings = HuggingFaceEmbeddings(model_name = 'sentence-transformers/all-mpnet-base-v2')"
      ],
      "metadata": {
        "id": "rTuuMfgo4Rbw"
      },
      "execution_count": 25,
      "outputs": []
    },
    {
      "cell_type": "code",
      "source": [
        "# pip install \"pinecone[grpc]\"\n",
        "# Serverless index\n",
        "# from pinecone.grpc import PineconeGRPC as Pinecone\n",
        "# from pinecone import ServerlessSpec\n",
        "\n",
        "# pc = Pinecone(api_key=pinecone_api_key)\n",
        "\n",
        "# pc.create_index(\n",
        "#   name=\"rag-experiment\",\n",
        "#   dimension=768,\n",
        "#   metric=\"cosine\",\n",
        "#   spec=ServerlessSpec(\n",
        "#     cloud=\"aws\",\n",
        "#     region=\"us-east-1\",\n",
        "#   ),\n",
        "#   deletion_protection=\"disabled\"\n",
        "# )\n",
        "\n",
        "# Pod-based index\n",
        "# from pinecone.grpc import PineconeGRPC as Pinecone, PodSpec\n",
        "\n",
        "# pc = Pinecone(api_key=\"YOUR_API_KEY\")\n",
        "\n",
        "# pc.create_index(\n",
        "#   name=\"docs-example2\",\n",
        "#   dimension=1536,\n",
        "#   metric=\"cosine\",\n",
        "#   spec=PodSpec(\n",
        "#     environment=\"us-west1-gcp\",\n",
        "#     pod_type=\"p1.x1\",\n",
        "#     pods=1,\n",
        "#   ),\n",
        "#   deletion_protection=\"disabled\"\n",
        "# )"
      ],
      "metadata": {
        "id": "n1C-STyh5tNe"
      },
      "execution_count": 31,
      "outputs": []
    },
    {
      "cell_type": "code",
      "source": [
        "from langchain_pinecone import PineconeVectorStore\n",
        "from pinecone import Pinecone\n",
        "\n",
        "pc = Pinecone(api_key=pinecone_api_key)\n",
        "index = pc.Index('rag-experiment')\n",
        "\n",
        "vector_store = PineconeVectorStore(embedding=embeddings, index=index)"
      ],
      "metadata": {
        "id": "0DM1T-1E48pv"
      },
      "execution_count": 32,
      "outputs": []
    },
    {
      "cell_type": "code",
      "source": [],
      "metadata": {
        "id": "nRsjX8yL5hmp"
      },
      "execution_count": null,
      "outputs": []
    }
  ]
}