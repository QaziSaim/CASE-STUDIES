{
  "nbformat": 4,
  "nbformat_minor": 0,
  "metadata": {
    "colab": {
      "provenance": [],
      "authorship_tag": "ABX9TyOnKmA/lBJFMiQs+EIcQVjd",
      "include_colab_link": true
    },
    "kernelspec": {
      "name": "python3",
      "display_name": "Python 3"
    },
    "language_info": {
      "name": "python"
    }
  },
  "cells": [
    {
      "cell_type": "markdown",
      "metadata": {
        "id": "view-in-github",
        "colab_type": "text"
      },
      "source": [
        "<a href=\"https://colab.research.google.com/github/QaziSaim/CASE-STUDIES/blob/main/StringPracticeQuestions.ipynb\" target=\"_parent\"><img src=\"https://colab.research.google.com/assets/colab-badge.svg\" alt=\"Open In Colab\"/></a>"
      ]
    },
    {
      "cell_type": "code",
      "execution_count": null,
      "metadata": {
        "colab": {
          "base_uri": "https://localhost:8080/"
        },
        "id": "37uU6_apRJpA",
        "outputId": "76454a00-8660-4bc2-9dcf-fa103c23d8fc"
      },
      "outputs": [
        {
          "output_type": "stream",
          "name": "stdout",
          "text": [
            "sahim is name my\n"
          ]
        }
      ],
      "source": [
        "s = \"my name is sahim\"\n",
        "print(\" \".join(s.split()[::-1]))"
      ]
    },
    {
      "cell_type": "code",
      "source": [
        "pal = 'saas'\n",
        "if pal==pal[::-1]:\n",
        "  print('pal')\n",
        "print('not pal')"
      ],
      "metadata": {
        "colab": {
          "base_uri": "https://localhost:8080/"
        },
        "id": "o9t-QaLXRY35",
        "outputId": "c4d1f026-540e-429a-8668-63051a5c7092"
      },
      "execution_count": null,
      "outputs": [
        {
          "output_type": "stream",
          "name": "stdout",
          "text": [
            "pal\n",
            "not pal\n"
          ]
        }
      ]
    },
    {
      "cell_type": "code",
      "source": [
        "'pal ' if pal==pal[::-1] else 'Not pal'"
      ],
      "metadata": {
        "colab": {
          "base_uri": "https://localhost:8080/",
          "height": 36
        },
        "id": "6GtwRkEORpA7",
        "outputId": "d3c23cee-600d-4829-ff35-28bb5b52b85d"
      },
      "execution_count": null,
      "outputs": [
        {
          "output_type": "execute_result",
          "data": {
            "text/plain": [
              "'pal '"
            ],
            "application/vnd.google.colaboratory.intrinsic+json": {
              "type": "string"
            }
          },
          "metadata": {},
          "execution_count": 6
        }
      ]
    },
    {
      "cell_type": "code",
      "source": [
        "lower  = 'sahim is my name a ai engineer'\n",
        "lower.upper()"
      ],
      "metadata": {
        "colab": {
          "base_uri": "https://localhost:8080/",
          "height": 36
        },
        "id": "8iUflvzLRuur",
        "outputId": "2a0ea698-1706-4c01-beba-cea91297311a"
      },
      "execution_count": null,
      "outputs": [
        {
          "output_type": "execute_result",
          "data": {
            "text/plain": [
              "'SAHIM IS MY NAME A AI ENGINEER'"
            ],
            "application/vnd.google.colaboratory.intrinsic+json": {
              "type": "string"
            }
          },
          "metadata": {},
          "execution_count": 7
        }
      ]
    },
    {
      "cell_type": "code",
      "source": [
        "upper = 'sahim is my name with big skills'\n",
        "upper.lower()"
      ],
      "metadata": {
        "colab": {
          "base_uri": "https://localhost:8080/",
          "height": 36
        },
        "id": "mlBH18_9Rz5c",
        "outputId": "d6767716-1dbe-41a8-cf5a-fdc9c40efbc0"
      },
      "execution_count": null,
      "outputs": [
        {
          "output_type": "execute_result",
          "data": {
            "text/plain": [
              "'sahim is my name with big skills'"
            ],
            "application/vnd.google.colaboratory.intrinsic+json": {
              "type": "string"
            }
          },
          "metadata": {},
          "execution_count": 8
        }
      ]
    },
    {
      "cell_type": "code",
      "source": [
        "vowel = 'aeiou'\n",
        "text  = 'if you know you will become millionaire'\n",
        "count:int = 0\n",
        "cons_count=0\n",
        "for i in text:\n",
        "  if i in vowel.replace(' ',''):\n",
        "    count+=1\n",
        "  else:\n",
        "    cons_count+=1\n",
        "print('vowel ',count)\n",
        "print('cons_count ',cons_count)"
      ],
      "metadata": {
        "id": "u2Vr925lR5JE",
        "colab": {
          "base_uri": "https://localhost:8080/"
        },
        "outputId": "28b4d2b4-0730-47a5-eff6-7d1ff6cf4c49"
      },
      "execution_count": 6,
      "outputs": [
        {
          "output_type": "stream",
          "name": "stdout",
          "text": [
            "vowel  16\n",
            "cons_count  23\n"
          ]
        }
      ]
    },
    {
      "cell_type": "code",
      "source": [
        "text = 'once a smart man give some advice that you have to show your smartness to your all school'\n",
        "# text = text.replace(' ','')\n",
        "print(text)"
      ],
      "metadata": {
        "colab": {
          "base_uri": "https://localhost:8080/"
        },
        "id": "SghosbgL8t8T",
        "outputId": "a7fc825e-42b2-4648-cf98-3681fc371933"
      },
      "execution_count": 16,
      "outputs": [
        {
          "output_type": "stream",
          "name": "stdout",
          "text": [
            "once a smart man give some advice that you have to show your smartness to your all school\n"
          ]
        }
      ]
    },
    {
      "cell_type": "code",
      "source": [
        "print(sum(1 for n in text))\n",
        "print(len(text))"
      ],
      "metadata": {
        "colab": {
          "base_uri": "https://localhost:8080/"
        },
        "id": "SekYBoMj9NYC",
        "outputId": "3eb5f55a-fde8-4a78-883c-0bf824ce2f86"
      },
      "execution_count": 17,
      "outputs": [
        {
          "output_type": "stream",
          "name": "stdout",
          "text": [
            "89\n",
            "89\n"
          ]
        }
      ]
    },
    {
      "cell_type": "code",
      "source": [
        "occ = 'your'\n",
        "count = 0\n",
        "print(text.split(' ')[0])\n",
        "for n in text.split(' '):\n",
        "  if n==occ:\n",
        "    count+=1\n",
        "print(count)"
      ],
      "metadata": {
        "colab": {
          "base_uri": "https://localhost:8080/"
        },
        "id": "wwuf7uL19aG_",
        "outputId": "60769837-679a-4ecb-fcd9-4fb97aab6c46"
      },
      "execution_count": 21,
      "outputs": [
        {
          "output_type": "stream",
          "name": "stdout",
          "text": [
            "once\n",
            "2\n"
          ]
        }
      ]
    },
    {
      "cell_type": "code",
      "source": [],
      "metadata": {
        "id": "nUa6omhB-HWY"
      },
      "execution_count": 24,
      "outputs": []
    },
    {
      "cell_type": "code",
      "source": [],
      "metadata": {
        "colab": {
          "base_uri": "https://localhost:8080/"
        },
        "id": "xaegs1Ok_BH6",
        "outputId": "f0a70dad-07e9-495f-f4f1-a3a813b820ec"
      },
      "execution_count": 32,
      "outputs": [
        {
          "output_type": "stream",
          "name": "stdout",
          "text": [
            "in the 16th century  babur  a timurid descendant of timur and genghis khan from fergana valley  modern day uzbekistan   swept across the khyber pass and founded the mughal empire  covering india  along with modern day afghanistan  pakistan and bangladesh  37  the mughals were descended from persianised central asian turks  with significant mongol admixture   in the mughal era  uttar pradesh became the heartland of the empire  29  mughal emperors babur and humayun ruled from delhi  38  39  in 1540 an afghan  sher shah suri  took over the reins of uttar pradesh after defeating the mughal king humanyun  40  sher shah and his son islam shah ruled uttar pradesh from their capital at gwalior  41  after the death of islam shah suri  his prime minister hemu became the de facto ruler of uttar pradesh  bihar  madhya pradesh  and the western parts of bengal  he was bestowed the title of hemchandra vikramaditya  title of vikram ditya adopted from vedic period  at his formal coronation took place at purana qila in delhi on 7 october 1556  a month later  hemu died in the second battle of panipat  and uttar pradesh came under emperor akbar s rule  42  akbar ruled from agra and fatehpur sikri  43   in the 18th century  after the fall of mughal authority  the power vacuum was filled by the maratha empire  in the mid 18th century  the maratha army invaded the uttar pradesh region  which resulted in rohillas losing control of rohilkhand to the maratha forces led by raghunath rao and malha rao holkar  the conflict between rohillas and marathas came to an end on 18 december 1788 with the arrest of ghulam qadir  the grandson of najeeb ud daula  who was defeated by the maratha general mahadaji scindia  in 1803 04  following the second anglo maratha war  when the british east india company defeated the maratha empire  much of the region came under british suzerainty\n"
          ]
        }
      ]
    },
    {
      "cell_type": "code",
      "source": [
        "import re\n",
        "medival = \"\"\"In the 16th century, Babur, a Timurid descendant of Timur and Genghis Khan from Fergana Valley (modern-day Uzbekistan), swept across the Khyber Pass and founded the Mughal Empire, covering India, along with modern-day Afghanistan, Pakistan and Bangladesh.[37] The Mughals were descended from Persianised Central Asian Turks (with significant Mongol admixture). In the Mughal era, Uttar Pradesh became the heartland of the empire.[29] Mughal emperors Babur and Humayun ruled from Delhi.[38][39] In 1540 an Afghan, Sher Shah Suri, took over the reins of Uttar Pradesh after defeating the Mughal King Humanyun.[40] Sher Shah and his son Islam Shah ruled Uttar Pradesh from their capital at Gwalior.[41] After the death of Islam Shah Suri, his prime minister Hemu became the de facto ruler of Uttar Pradesh, Bihar, Madhya Pradesh, and the western parts of Bengal. He was bestowed the title of Hemchandra Vikramaditya (title of Vikramāditya adopted from Vedic period) at his formal coronation took place at Purana Qila in Delhi on 7 October 1556. A month later, Hemu died in the Second Battle of Panipat, and Uttar Pradesh came under Emperor Akbar's rule.[42] Akbar ruled from Agra and Fatehpur Sikri.[43]\n",
        "\n",
        "In the 18th century, after the fall of Mughal authority, the power vacuum was filled by the Maratha Empire, in the mid-18th century, the Maratha army invaded the Uttar Pradesh region, which resulted in Rohillas losing control of Rohilkhand to the Maratha forces led by Raghunath Rao and Malha Rao Holkar. The conflict between Rohillas and Marathas came to an end on 18 December 1788 with the arrest of Ghulam Qadir, the grandson of Najeeb-ud-Daula, who was defeated by the Maratha general Mahadaji Scindia. In 1803–04, following the Second Anglo-Maratha War, when the British East India Company defeated the Maratha Empire, much of the region came under British suzerainty\"\"\"\n",
        "medival=medival.lower()\n",
        "res = re.sub(r'[^a-zA-Z0-9]', ' ', medival)\n",
        "print(res)\n",
        "res = res.split(' ')\n",
        "print(res)\n",
        "unique_words = set(res)\n",
        "bow = {n:res.count(n) for n in res}"
      ],
      "metadata": {
        "colab": {
          "base_uri": "https://localhost:8080/"
        },
        "id": "5DsqzxhA-u3l",
        "outputId": "4c5b323e-a479-4ae9-e852-cbeff47fb677"
      },
      "execution_count": 39,
      "outputs": [
        {
          "output_type": "stream",
          "name": "stdout",
          "text": [
            "in the 16th century  babur  a timurid descendant of timur and genghis khan from fergana valley  modern day uzbekistan   swept across the khyber pass and founded the mughal empire  covering india  along with modern day afghanistan  pakistan and bangladesh  37  the mughals were descended from persianised central asian turks  with significant mongol admixture   in the mughal era  uttar pradesh became the heartland of the empire  29  mughal emperors babur and humayun ruled from delhi  38  39  in 1540 an afghan  sher shah suri  took over the reins of uttar pradesh after defeating the mughal king humanyun  40  sher shah and his son islam shah ruled uttar pradesh from their capital at gwalior  41  after the death of islam shah suri  his prime minister hemu became the de facto ruler of uttar pradesh  bihar  madhya pradesh  and the western parts of bengal  he was bestowed the title of hemchandra vikramaditya  title of vikram ditya adopted from vedic period  at his formal coronation took place at purana qila in delhi on 7 october 1556  a month later  hemu died in the second battle of panipat  and uttar pradesh came under emperor akbar s rule  42  akbar ruled from agra and fatehpur sikri  43   in the 18th century  after the fall of mughal authority  the power vacuum was filled by the maratha empire  in the mid 18th century  the maratha army invaded the uttar pradesh region  which resulted in rohillas losing control of rohilkhand to the maratha forces led by raghunath rao and malha rao holkar  the conflict between rohillas and marathas came to an end on 18 december 1788 with the arrest of ghulam qadir  the grandson of najeeb ud daula  who was defeated by the maratha general mahadaji scindia  in 1803 04  following the second anglo maratha war  when the british east india company defeated the maratha empire  much of the region came under british suzerainty\n",
            "['in', 'the', '16th', 'century', '', 'babur', '', 'a', 'timurid', 'descendant', 'of', 'timur', 'and', 'genghis', 'khan', 'from', 'fergana', 'valley', '', 'modern', 'day', 'uzbekistan', '', '', 'swept', 'across', 'the', 'khyber', 'pass', 'and', 'founded', 'the', 'mughal', 'empire', '', 'covering', 'india', '', 'along', 'with', 'modern', 'day', 'afghanistan', '', 'pakistan', 'and', 'bangladesh', '', '37', '', 'the', 'mughals', 'were', 'descended', 'from', 'persianised', 'central', 'asian', 'turks', '', 'with', 'significant', 'mongol', 'admixture', '', '', 'in', 'the', 'mughal', 'era', '', 'uttar', 'pradesh', 'became', 'the', 'heartland', 'of', 'the', 'empire', '', '29', '', 'mughal', 'emperors', 'babur', 'and', 'humayun', 'ruled', 'from', 'delhi', '', '38', '', '39', '', 'in', '1540', 'an', 'afghan', '', 'sher', 'shah', 'suri', '', 'took', 'over', 'the', 'reins', 'of', 'uttar', 'pradesh', 'after', 'defeating', 'the', 'mughal', 'king', 'humanyun', '', '40', '', 'sher', 'shah', 'and', 'his', 'son', 'islam', 'shah', 'ruled', 'uttar', 'pradesh', 'from', 'their', 'capital', 'at', 'gwalior', '', '41', '', 'after', 'the', 'death', 'of', 'islam', 'shah', 'suri', '', 'his', 'prime', 'minister', 'hemu', 'became', 'the', 'de', 'facto', 'ruler', 'of', 'uttar', 'pradesh', '', 'bihar', '', 'madhya', 'pradesh', '', 'and', 'the', 'western', 'parts', 'of', 'bengal', '', 'he', 'was', 'bestowed', 'the', 'title', 'of', 'hemchandra', 'vikramaditya', '', 'title', 'of', 'vikram', 'ditya', 'adopted', 'from', 'vedic', 'period', '', 'at', 'his', 'formal', 'coronation', 'took', 'place', 'at', 'purana', 'qila', 'in', 'delhi', 'on', '7', 'october', '1556', '', 'a', 'month', 'later', '', 'hemu', 'died', 'in', 'the', 'second', 'battle', 'of', 'panipat', '', 'and', 'uttar', 'pradesh', 'came', 'under', 'emperor', 'akbar', 's', 'rule', '', '42', '', 'akbar', 'ruled', 'from', 'agra', 'and', 'fatehpur', 'sikri', '', '43', '', '', 'in', 'the', '18th', 'century', '', 'after', 'the', 'fall', 'of', 'mughal', 'authority', '', 'the', 'power', 'vacuum', 'was', 'filled', 'by', 'the', 'maratha', 'empire', '', 'in', 'the', 'mid', '18th', 'century', '', 'the', 'maratha', 'army', 'invaded', 'the', 'uttar', 'pradesh', 'region', '', 'which', 'resulted', 'in', 'rohillas', 'losing', 'control', 'of', 'rohilkhand', 'to', 'the', 'maratha', 'forces', 'led', 'by', 'raghunath', 'rao', 'and', 'malha', 'rao', 'holkar', '', 'the', 'conflict', 'between', 'rohillas', 'and', 'marathas', 'came', 'to', 'an', 'end', 'on', '18', 'december', '1788', 'with', 'the', 'arrest', 'of', 'ghulam', 'qadir', '', 'the', 'grandson', 'of', 'najeeb', 'ud', 'daula', '', 'who', 'was', 'defeated', 'by', 'the', 'maratha', 'general', 'mahadaji', 'scindia', '', 'in', '1803', '04', '', 'following', 'the', 'second', 'anglo', 'maratha', 'war', '', 'when', 'the', 'british', 'east', 'india', 'company', 'defeated', 'the', 'maratha', 'empire', '', 'much', 'of', 'the', 'region', 'came', 'under', 'british', 'suzerainty']\n"
          ]
        }
      ]
    },
    {
      "cell_type": "code",
      "source": [
        "print(bow)"
      ],
      "metadata": {
        "colab": {
          "base_uri": "https://localhost:8080/"
        },
        "id": "aIOAfk5r-ytU",
        "outputId": "ca5991d9-c073-4efe-c60e-bb133028e8f3"
      },
      "execution_count": 40,
      "outputs": [
        {
          "output_type": "stream",
          "name": "stdout",
          "text": [
            "{'in': 9, 'the': 30, '16th': 1, 'century': 3, '': 52, 'babur': 2, 'a': 2, 'timurid': 1, 'descendant': 1, 'of': 14, 'timur': 1, 'and': 10, 'genghis': 1, 'khan': 1, 'from': 6, 'fergana': 1, 'valley': 1, 'modern': 2, 'day': 2, 'uzbekistan': 1, 'swept': 1, 'across': 1, 'khyber': 1, 'pass': 1, 'founded': 1, 'mughal': 5, 'empire': 4, 'covering': 1, 'india': 2, 'along': 1, 'with': 3, 'afghanistan': 1, 'pakistan': 1, 'bangladesh': 1, '37': 1, 'mughals': 1, 'were': 1, 'descended': 1, 'persianised': 1, 'central': 1, 'asian': 1, 'turks': 1, 'significant': 1, 'mongol': 1, 'admixture': 1, 'era': 1, 'uttar': 6, 'pradesh': 7, 'became': 2, 'heartland': 1, '29': 1, 'emperors': 1, 'humayun': 1, 'ruled': 3, 'delhi': 2, '38': 1, '39': 1, '1540': 1, 'an': 2, 'afghan': 1, 'sher': 2, 'shah': 4, 'suri': 2, 'took': 2, 'over': 1, 'reins': 1, 'after': 3, 'defeating': 1, 'king': 1, 'humanyun': 1, '40': 1, 'his': 3, 'son': 1, 'islam': 2, 'their': 1, 'capital': 1, 'at': 3, 'gwalior': 1, '41': 1, 'death': 1, 'prime': 1, 'minister': 1, 'hemu': 2, 'de': 1, 'facto': 1, 'ruler': 1, 'bihar': 1, 'madhya': 1, 'western': 1, 'parts': 1, 'bengal': 1, 'he': 1, 'was': 3, 'bestowed': 1, 'title': 2, 'hemchandra': 1, 'vikramaditya': 1, 'vikram': 1, 'ditya': 1, 'adopted': 1, 'vedic': 1, 'period': 1, 'formal': 1, 'coronation': 1, 'place': 1, 'purana': 1, 'qila': 1, 'on': 2, '7': 1, 'october': 1, '1556': 1, 'month': 1, 'later': 1, 'died': 1, 'second': 2, 'battle': 1, 'panipat': 1, 'came': 3, 'under': 2, 'emperor': 1, 'akbar': 2, 's': 1, 'rule': 1, '42': 1, 'agra': 1, 'fatehpur': 1, 'sikri': 1, '43': 1, '18th': 2, 'fall': 1, 'authority': 1, 'power': 1, 'vacuum': 1, 'filled': 1, 'by': 3, 'maratha': 6, 'mid': 1, 'army': 1, 'invaded': 1, 'region': 2, 'which': 1, 'resulted': 1, 'rohillas': 2, 'losing': 1, 'control': 1, 'rohilkhand': 1, 'to': 2, 'forces': 1, 'led': 1, 'raghunath': 1, 'rao': 2, 'malha': 1, 'holkar': 1, 'conflict': 1, 'between': 1, 'marathas': 1, 'end': 1, '18': 1, 'december': 1, '1788': 1, 'arrest': 1, 'ghulam': 1, 'qadir': 1, 'grandson': 1, 'najeeb': 1, 'ud': 1, 'daula': 1, 'who': 1, 'defeated': 2, 'general': 1, 'mahadaji': 1, 'scindia': 1, '1803': 1, '04': 1, 'following': 1, 'anglo': 1, 'war': 1, 'when': 1, 'british': 2, 'east': 1, 'company': 1, 'much': 1, 'suzerainty': 1}\n"
          ]
        }
      ]
    },
    {
      "cell_type": "code",
      "source": [
        "text = \"\"\"In the 16th century, Babur, a Timurid descendant of Timur and Genghis Khan from Fergana Valley (modern-day Uzbekistan), swept across the Khyber Pass and founded the Mughal Empire, covering India, along with modern-day Afghanistan, Pakistan and Bangladesh.[37] The Mughals were descended from Persianised Central Asian Turks (with significant Mongol admixture). In the Mughal era, Uttar Pradesh became the heartland of the empire.[29] Mughal emperors Babur and Humayun ruled from Delhi.[38][39] In 1540 an Afghan, Sher Shah Suri, took over the reins of Uttar Pradesh after defeating the Mughal King Humanyun.[40] Sher Shah and his son Islam Shah ruled Uttar Pradesh from their capital at Gwalior.[41] After the death of Islam Shah Suri, his prime minister Hemu became the de facto ruler of Uttar Pradesh, Bihar, Madhya Pradesh, and the western parts of Bengal. He was bestowed the title of Hemchandra Vikramaditya (title of Vikramāditya adopted from Vedic period) at his formal coronation took place at Purana Qila in Delhi on 7 October 1556. A month later, Hemu died in the Second Battle of Panipat, and Uttar Pradesh came under Emperor Akbar's rule.[42] Akbar ruled from Agra and Fatehpur Sikri.[43]\n",
        "\n",
        "In the 18th century, after the fall of Mughal authority, the power vacuum was filled by the Maratha Empire, in the mid-18th century, the Maratha army invaded the Uttar Pradesh region, which resulted in Rohillas losing control of Rohilkhand to the Maratha forces led by Raghunath Rao and Malha Rao Holkar. The conflict between Rohillas and Marathas came to an end on 18 December 1788 with the arrest of Ghulam Qadir, the grandson of Najeeb-ud-Daula, who was defeated by the Maratha general Mahadaji Scindia. In 1803–04, following the Second Anglo-Maratha War, when the British East India Company defeated the Maratha Empire, much of the region came under British suzerainty\"\"\"\n"
      ],
      "metadata": {
        "id": "cXYn6ti6Asse"
      },
      "execution_count": 41,
      "outputs": []
    },
    {
      "cell_type": "code",
      "source": [
        "import re\n",
        "\n",
        "# text = \"\"\"In the 16th century, Babur, a Timurid descendant of Timur...\"\"\"\n",
        "text = text.lower()\n",
        "text = re.sub(r'[^a-z0-9\\s]', ' ', text)  # keep spaces\n",
        "tokens = text.split()\n",
        "bow = {}\n",
        "\n",
        "for word in tokens:\n",
        "    bow[word] = bow.get(word, 0) + 1\n",
        "\n",
        "print(bow)\n"
      ],
      "metadata": {
        "colab": {
          "base_uri": "https://localhost:8080/"
        },
        "id": "JzZxCTAX_bYI",
        "outputId": "ca721053-3db7-4926-f265-ecd9e8652548"
      },
      "execution_count": 42,
      "outputs": [
        {
          "output_type": "stream",
          "name": "stdout",
          "text": [
            "{'in': 9, 'the': 30, '16th': 1, 'century': 3, 'babur': 2, 'a': 2, 'timurid': 1, 'descendant': 1, 'of': 14, 'timur': 1, 'and': 10, 'genghis': 1, 'khan': 1, 'from': 6, 'fergana': 1, 'valley': 1, 'modern': 2, 'day': 2, 'uzbekistan': 1, 'swept': 1, 'across': 1, 'khyber': 1, 'pass': 1, 'founded': 1, 'mughal': 5, 'empire': 4, 'covering': 1, 'india': 2, 'along': 1, 'with': 3, 'afghanistan': 1, 'pakistan': 1, 'bangladesh': 1, '37': 1, 'mughals': 1, 'were': 1, 'descended': 1, 'persianised': 1, 'central': 1, 'asian': 1, 'turks': 1, 'significant': 1, 'mongol': 1, 'admixture': 1, 'era': 1, 'uttar': 6, 'pradesh': 7, 'became': 2, 'heartland': 1, '29': 1, 'emperors': 1, 'humayun': 1, 'ruled': 3, 'delhi': 2, '38': 1, '39': 1, '1540': 1, 'an': 2, 'afghan': 1, 'sher': 2, 'shah': 4, 'suri': 2, 'took': 2, 'over': 1, 'reins': 1, 'after': 3, 'defeating': 1, 'king': 1, 'humanyun': 1, '40': 1, 'his': 3, 'son': 1, 'islam': 2, 'their': 1, 'capital': 1, 'at': 3, 'gwalior': 1, '41': 1, 'death': 1, 'prime': 1, 'minister': 1, 'hemu': 2, 'de': 1, 'facto': 1, 'ruler': 1, 'bihar': 1, 'madhya': 1, 'western': 1, 'parts': 1, 'bengal': 1, 'he': 1, 'was': 3, 'bestowed': 1, 'title': 2, 'hemchandra': 1, 'vikramaditya': 1, 'vikram': 1, 'ditya': 1, 'adopted': 1, 'vedic': 1, 'period': 1, 'formal': 1, 'coronation': 1, 'place': 1, 'purana': 1, 'qila': 1, 'on': 2, '7': 1, 'october': 1, '1556': 1, 'month': 1, 'later': 1, 'died': 1, 'second': 2, 'battle': 1, 'panipat': 1, 'came': 3, 'under': 2, 'emperor': 1, 'akbar': 2, 's': 1, 'rule': 1, '42': 1, 'agra': 1, 'fatehpur': 1, 'sikri': 1, '43': 1, '18th': 2, 'fall': 1, 'authority': 1, 'power': 1, 'vacuum': 1, 'filled': 1, 'by': 3, 'maratha': 6, 'mid': 1, 'army': 1, 'invaded': 1, 'region': 2, 'which': 1, 'resulted': 1, 'rohillas': 2, 'losing': 1, 'control': 1, 'rohilkhand': 1, 'to': 2, 'forces': 1, 'led': 1, 'raghunath': 1, 'rao': 2, 'malha': 1, 'holkar': 1, 'conflict': 1, 'between': 1, 'marathas': 1, 'end': 1, '18': 1, 'december': 1, '1788': 1, 'arrest': 1, 'ghulam': 1, 'qadir': 1, 'grandson': 1, 'najeeb': 1, 'ud': 1, 'daula': 1, 'who': 1, 'defeated': 2, 'general': 1, 'mahadaji': 1, 'scindia': 1, '1803': 1, '04': 1, 'following': 1, 'anglo': 1, 'war': 1, 'when': 1, 'british': 2, 'east': 1, 'company': 1, 'much': 1, 'suzerainty': 1}\n"
          ]
        }
      ]
    },
    {
      "cell_type": "code",
      "source": [
        "tokens"
      ],
      "metadata": {
        "colab": {
          "base_uri": "https://localhost:8080/"
        },
        "id": "YVhEYpY4_ciY",
        "outputId": "c1fa4c0f-7dd1-4ec1-9d2d-36b25bdb6ef6"
      },
      "execution_count": 43,
      "outputs": [
        {
          "output_type": "execute_result",
          "data": {
            "text/plain": [
              "['in',\n",
              " 'the',\n",
              " '16th',\n",
              " 'century',\n",
              " 'babur',\n",
              " 'a',\n",
              " 'timurid',\n",
              " 'descendant',\n",
              " 'of',\n",
              " 'timur',\n",
              " 'and',\n",
              " 'genghis',\n",
              " 'khan',\n",
              " 'from',\n",
              " 'fergana',\n",
              " 'valley',\n",
              " 'modern',\n",
              " 'day',\n",
              " 'uzbekistan',\n",
              " 'swept',\n",
              " 'across',\n",
              " 'the',\n",
              " 'khyber',\n",
              " 'pass',\n",
              " 'and',\n",
              " 'founded',\n",
              " 'the',\n",
              " 'mughal',\n",
              " 'empire',\n",
              " 'covering',\n",
              " 'india',\n",
              " 'along',\n",
              " 'with',\n",
              " 'modern',\n",
              " 'day',\n",
              " 'afghanistan',\n",
              " 'pakistan',\n",
              " 'and',\n",
              " 'bangladesh',\n",
              " '37',\n",
              " 'the',\n",
              " 'mughals',\n",
              " 'were',\n",
              " 'descended',\n",
              " 'from',\n",
              " 'persianised',\n",
              " 'central',\n",
              " 'asian',\n",
              " 'turks',\n",
              " 'with',\n",
              " 'significant',\n",
              " 'mongol',\n",
              " 'admixture',\n",
              " 'in',\n",
              " 'the',\n",
              " 'mughal',\n",
              " 'era',\n",
              " 'uttar',\n",
              " 'pradesh',\n",
              " 'became',\n",
              " 'the',\n",
              " 'heartland',\n",
              " 'of',\n",
              " 'the',\n",
              " 'empire',\n",
              " '29',\n",
              " 'mughal',\n",
              " 'emperors',\n",
              " 'babur',\n",
              " 'and',\n",
              " 'humayun',\n",
              " 'ruled',\n",
              " 'from',\n",
              " 'delhi',\n",
              " '38',\n",
              " '39',\n",
              " 'in',\n",
              " '1540',\n",
              " 'an',\n",
              " 'afghan',\n",
              " 'sher',\n",
              " 'shah',\n",
              " 'suri',\n",
              " 'took',\n",
              " 'over',\n",
              " 'the',\n",
              " 'reins',\n",
              " 'of',\n",
              " 'uttar',\n",
              " 'pradesh',\n",
              " 'after',\n",
              " 'defeating',\n",
              " 'the',\n",
              " 'mughal',\n",
              " 'king',\n",
              " 'humanyun',\n",
              " '40',\n",
              " 'sher',\n",
              " 'shah',\n",
              " 'and',\n",
              " 'his',\n",
              " 'son',\n",
              " 'islam',\n",
              " 'shah',\n",
              " 'ruled',\n",
              " 'uttar',\n",
              " 'pradesh',\n",
              " 'from',\n",
              " 'their',\n",
              " 'capital',\n",
              " 'at',\n",
              " 'gwalior',\n",
              " '41',\n",
              " 'after',\n",
              " 'the',\n",
              " 'death',\n",
              " 'of',\n",
              " 'islam',\n",
              " 'shah',\n",
              " 'suri',\n",
              " 'his',\n",
              " 'prime',\n",
              " 'minister',\n",
              " 'hemu',\n",
              " 'became',\n",
              " 'the',\n",
              " 'de',\n",
              " 'facto',\n",
              " 'ruler',\n",
              " 'of',\n",
              " 'uttar',\n",
              " 'pradesh',\n",
              " 'bihar',\n",
              " 'madhya',\n",
              " 'pradesh',\n",
              " 'and',\n",
              " 'the',\n",
              " 'western',\n",
              " 'parts',\n",
              " 'of',\n",
              " 'bengal',\n",
              " 'he',\n",
              " 'was',\n",
              " 'bestowed',\n",
              " 'the',\n",
              " 'title',\n",
              " 'of',\n",
              " 'hemchandra',\n",
              " 'vikramaditya',\n",
              " 'title',\n",
              " 'of',\n",
              " 'vikram',\n",
              " 'ditya',\n",
              " 'adopted',\n",
              " 'from',\n",
              " 'vedic',\n",
              " 'period',\n",
              " 'at',\n",
              " 'his',\n",
              " 'formal',\n",
              " 'coronation',\n",
              " 'took',\n",
              " 'place',\n",
              " 'at',\n",
              " 'purana',\n",
              " 'qila',\n",
              " 'in',\n",
              " 'delhi',\n",
              " 'on',\n",
              " '7',\n",
              " 'october',\n",
              " '1556',\n",
              " 'a',\n",
              " 'month',\n",
              " 'later',\n",
              " 'hemu',\n",
              " 'died',\n",
              " 'in',\n",
              " 'the',\n",
              " 'second',\n",
              " 'battle',\n",
              " 'of',\n",
              " 'panipat',\n",
              " 'and',\n",
              " 'uttar',\n",
              " 'pradesh',\n",
              " 'came',\n",
              " 'under',\n",
              " 'emperor',\n",
              " 'akbar',\n",
              " 's',\n",
              " 'rule',\n",
              " '42',\n",
              " 'akbar',\n",
              " 'ruled',\n",
              " 'from',\n",
              " 'agra',\n",
              " 'and',\n",
              " 'fatehpur',\n",
              " 'sikri',\n",
              " '43',\n",
              " 'in',\n",
              " 'the',\n",
              " '18th',\n",
              " 'century',\n",
              " 'after',\n",
              " 'the',\n",
              " 'fall',\n",
              " 'of',\n",
              " 'mughal',\n",
              " 'authority',\n",
              " 'the',\n",
              " 'power',\n",
              " 'vacuum',\n",
              " 'was',\n",
              " 'filled',\n",
              " 'by',\n",
              " 'the',\n",
              " 'maratha',\n",
              " 'empire',\n",
              " 'in',\n",
              " 'the',\n",
              " 'mid',\n",
              " '18th',\n",
              " 'century',\n",
              " 'the',\n",
              " 'maratha',\n",
              " 'army',\n",
              " 'invaded',\n",
              " 'the',\n",
              " 'uttar',\n",
              " 'pradesh',\n",
              " 'region',\n",
              " 'which',\n",
              " 'resulted',\n",
              " 'in',\n",
              " 'rohillas',\n",
              " 'losing',\n",
              " 'control',\n",
              " 'of',\n",
              " 'rohilkhand',\n",
              " 'to',\n",
              " 'the',\n",
              " 'maratha',\n",
              " 'forces',\n",
              " 'led',\n",
              " 'by',\n",
              " 'raghunath',\n",
              " 'rao',\n",
              " 'and',\n",
              " 'malha',\n",
              " 'rao',\n",
              " 'holkar',\n",
              " 'the',\n",
              " 'conflict',\n",
              " 'between',\n",
              " 'rohillas',\n",
              " 'and',\n",
              " 'marathas',\n",
              " 'came',\n",
              " 'to',\n",
              " 'an',\n",
              " 'end',\n",
              " 'on',\n",
              " '18',\n",
              " 'december',\n",
              " '1788',\n",
              " 'with',\n",
              " 'the',\n",
              " 'arrest',\n",
              " 'of',\n",
              " 'ghulam',\n",
              " 'qadir',\n",
              " 'the',\n",
              " 'grandson',\n",
              " 'of',\n",
              " 'najeeb',\n",
              " 'ud',\n",
              " 'daula',\n",
              " 'who',\n",
              " 'was',\n",
              " 'defeated',\n",
              " 'by',\n",
              " 'the',\n",
              " 'maratha',\n",
              " 'general',\n",
              " 'mahadaji',\n",
              " 'scindia',\n",
              " 'in',\n",
              " '1803',\n",
              " '04',\n",
              " 'following',\n",
              " 'the',\n",
              " 'second',\n",
              " 'anglo',\n",
              " 'maratha',\n",
              " 'war',\n",
              " 'when',\n",
              " 'the',\n",
              " 'british',\n",
              " 'east',\n",
              " 'india',\n",
              " 'company',\n",
              " 'defeated',\n",
              " 'the',\n",
              " 'maratha',\n",
              " 'empire',\n",
              " 'much',\n",
              " 'of',\n",
              " 'the',\n",
              " 'region',\n",
              " 'came',\n",
              " 'under',\n",
              " 'british',\n",
              " 'suzerainty']"
            ]
          },
          "metadata": {},
          "execution_count": 43
        }
      ]
    },
    {
      "cell_type": "code",
      "source": [
        "tf = {x:round(y/len(bow),5) for x,y in bow.items()}"
      ],
      "metadata": {
        "id": "QFnmpAd9_z_S"
      },
      "execution_count": 50,
      "outputs": []
    },
    {
      "cell_type": "code",
      "source": [
        "bow"
      ],
      "metadata": {
        "colab": {
          "base_uri": "https://localhost:8080/"
        },
        "id": "Szu1qiS3DVoY",
        "outputId": "7fb20f58-aef8-4f39-9b3f-289d5846e2ce"
      },
      "execution_count": 56,
      "outputs": [
        {
          "output_type": "execute_result",
          "data": {
            "text/plain": [
              "{'in': 9,\n",
              " 'the': 30,\n",
              " '16th': 1,\n",
              " 'century': 3,\n",
              " 'babur': 2,\n",
              " 'a': 2,\n",
              " 'timurid': 1,\n",
              " 'descendant': 1,\n",
              " 'of': 14,\n",
              " 'timur': 1,\n",
              " 'and': 10,\n",
              " 'genghis': 1,\n",
              " 'khan': 1,\n",
              " 'from': 6,\n",
              " 'fergana': 1,\n",
              " 'valley': 1,\n",
              " 'modern': 2,\n",
              " 'day': 2,\n",
              " 'uzbekistan': 1,\n",
              " 'swept': 1,\n",
              " 'across': 1,\n",
              " 'khyber': 1,\n",
              " 'pass': 1,\n",
              " 'founded': 1,\n",
              " 'mughal': 5,\n",
              " 'empire': 4,\n",
              " 'covering': 1,\n",
              " 'india': 2,\n",
              " 'along': 1,\n",
              " 'with': 3,\n",
              " 'afghanistan': 1,\n",
              " 'pakistan': 1,\n",
              " 'bangladesh': 1,\n",
              " '37': 1,\n",
              " 'mughals': 1,\n",
              " 'were': 1,\n",
              " 'descended': 1,\n",
              " 'persianised': 1,\n",
              " 'central': 1,\n",
              " 'asian': 1,\n",
              " 'turks': 1,\n",
              " 'significant': 1,\n",
              " 'mongol': 1,\n",
              " 'admixture': 1,\n",
              " 'era': 1,\n",
              " 'uttar': 6,\n",
              " 'pradesh': 7,\n",
              " 'became': 2,\n",
              " 'heartland': 1,\n",
              " '29': 1,\n",
              " 'emperors': 1,\n",
              " 'humayun': 1,\n",
              " 'ruled': 3,\n",
              " 'delhi': 2,\n",
              " '38': 1,\n",
              " '39': 1,\n",
              " '1540': 1,\n",
              " 'an': 2,\n",
              " 'afghan': 1,\n",
              " 'sher': 2,\n",
              " 'shah': 4,\n",
              " 'suri': 2,\n",
              " 'took': 2,\n",
              " 'over': 1,\n",
              " 'reins': 1,\n",
              " 'after': 3,\n",
              " 'defeating': 1,\n",
              " 'king': 1,\n",
              " 'humanyun': 1,\n",
              " '40': 1,\n",
              " 'his': 3,\n",
              " 'son': 1,\n",
              " 'islam': 2,\n",
              " 'their': 1,\n",
              " 'capital': 1,\n",
              " 'at': 3,\n",
              " 'gwalior': 1,\n",
              " '41': 1,\n",
              " 'death': 1,\n",
              " 'prime': 1,\n",
              " 'minister': 1,\n",
              " 'hemu': 2,\n",
              " 'de': 1,\n",
              " 'facto': 1,\n",
              " 'ruler': 1,\n",
              " 'bihar': 1,\n",
              " 'madhya': 1,\n",
              " 'western': 1,\n",
              " 'parts': 1,\n",
              " 'bengal': 1,\n",
              " 'he': 1,\n",
              " 'was': 3,\n",
              " 'bestowed': 1,\n",
              " 'title': 2,\n",
              " 'hemchandra': 1,\n",
              " 'vikramaditya': 1,\n",
              " 'vikram': 1,\n",
              " 'ditya': 1,\n",
              " 'adopted': 1,\n",
              " 'vedic': 1,\n",
              " 'period': 1,\n",
              " 'formal': 1,\n",
              " 'coronation': 1,\n",
              " 'place': 1,\n",
              " 'purana': 1,\n",
              " 'qila': 1,\n",
              " 'on': 2,\n",
              " '7': 1,\n",
              " 'october': 1,\n",
              " '1556': 1,\n",
              " 'month': 1,\n",
              " 'later': 1,\n",
              " 'died': 1,\n",
              " 'second': 2,\n",
              " 'battle': 1,\n",
              " 'panipat': 1,\n",
              " 'came': 3,\n",
              " 'under': 2,\n",
              " 'emperor': 1,\n",
              " 'akbar': 2,\n",
              " 's': 1,\n",
              " 'rule': 1,\n",
              " '42': 1,\n",
              " 'agra': 1,\n",
              " 'fatehpur': 1,\n",
              " 'sikri': 1,\n",
              " '43': 1,\n",
              " '18th': 2,\n",
              " 'fall': 1,\n",
              " 'authority': 1,\n",
              " 'power': 1,\n",
              " 'vacuum': 1,\n",
              " 'filled': 1,\n",
              " 'by': 3,\n",
              " 'maratha': 6,\n",
              " 'mid': 1,\n",
              " 'army': 1,\n",
              " 'invaded': 1,\n",
              " 'region': 2,\n",
              " 'which': 1,\n",
              " 'resulted': 1,\n",
              " 'rohillas': 2,\n",
              " 'losing': 1,\n",
              " 'control': 1,\n",
              " 'rohilkhand': 1,\n",
              " 'to': 2,\n",
              " 'forces': 1,\n",
              " 'led': 1,\n",
              " 'raghunath': 1,\n",
              " 'rao': 2,\n",
              " 'malha': 1,\n",
              " 'holkar': 1,\n",
              " 'conflict': 1,\n",
              " 'between': 1,\n",
              " 'marathas': 1,\n",
              " 'end': 1,\n",
              " '18': 1,\n",
              " 'december': 1,\n",
              " '1788': 1,\n",
              " 'arrest': 1,\n",
              " 'ghulam': 1,\n",
              " 'qadir': 1,\n",
              " 'grandson': 1,\n",
              " 'najeeb': 1,\n",
              " 'ud': 1,\n",
              " 'daula': 1,\n",
              " 'who': 1,\n",
              " 'defeated': 2,\n",
              " 'general': 1,\n",
              " 'mahadaji': 1,\n",
              " 'scindia': 1,\n",
              " '1803': 1,\n",
              " '04': 1,\n",
              " 'following': 1,\n",
              " 'anglo': 1,\n",
              " 'war': 1,\n",
              " 'when': 1,\n",
              " 'british': 2,\n",
              " 'east': 1,\n",
              " 'company': 1,\n",
              " 'much': 1,\n",
              " 'suzerainty': 1}"
            ]
          },
          "metadata": {},
          "execution_count": 56
        }
      ]
    },
    {
      "cell_type": "code",
      "source": [
        "give = 0.009\n",
        "take = 0.007\n"
      ],
      "metadata": {
        "id": "0sVrae-Q_0XI"
      },
      "execution_count": 52,
      "outputs": []
    },
    {
      "cell_type": "code",
      "source": [
        "less_appear = [n for n,m in bow.items() if m==1]"
      ],
      "metadata": {
        "id": "jpDLfVN_B8q5"
      },
      "execution_count": 57,
      "outputs": []
    },
    {
      "cell_type": "code",
      "source": [],
      "metadata": {
        "colab": {
          "base_uri": "https://localhost:8080/"
        },
        "id": "NfngJ3kNDTdT",
        "outputId": "ee2a97ed-9338-4620-8537-8a5cde1f1c35"
      },
      "execution_count": 58,
      "outputs": [
        {
          "output_type": "execute_result",
          "data": {
            "text/plain": [
              "['16th',\n",
              " 'timurid',\n",
              " 'descendant',\n",
              " 'timur',\n",
              " 'genghis',\n",
              " 'khan',\n",
              " 'fergana',\n",
              " 'valley',\n",
              " 'uzbekistan',\n",
              " 'swept',\n",
              " 'across',\n",
              " 'khyber',\n",
              " 'pass',\n",
              " 'founded',\n",
              " 'covering',\n",
              " 'along',\n",
              " 'afghanistan',\n",
              " 'pakistan',\n",
              " 'bangladesh',\n",
              " '37',\n",
              " 'mughals',\n",
              " 'were',\n",
              " 'descended',\n",
              " 'persianised',\n",
              " 'central',\n",
              " 'asian',\n",
              " 'turks',\n",
              " 'significant',\n",
              " 'mongol',\n",
              " 'admixture',\n",
              " 'era',\n",
              " 'heartland',\n",
              " '29',\n",
              " 'emperors',\n",
              " 'humayun',\n",
              " '38',\n",
              " '39',\n",
              " '1540',\n",
              " 'afghan',\n",
              " 'over',\n",
              " 'reins',\n",
              " 'defeating',\n",
              " 'king',\n",
              " 'humanyun',\n",
              " '40',\n",
              " 'son',\n",
              " 'their',\n",
              " 'capital',\n",
              " 'gwalior',\n",
              " '41',\n",
              " 'death',\n",
              " 'prime',\n",
              " 'minister',\n",
              " 'de',\n",
              " 'facto',\n",
              " 'ruler',\n",
              " 'bihar',\n",
              " 'madhya',\n",
              " 'western',\n",
              " 'parts',\n",
              " 'bengal',\n",
              " 'he',\n",
              " 'bestowed',\n",
              " 'hemchandra',\n",
              " 'vikramaditya',\n",
              " 'vikram',\n",
              " 'ditya',\n",
              " 'adopted',\n",
              " 'vedic',\n",
              " 'period',\n",
              " 'formal',\n",
              " 'coronation',\n",
              " 'place',\n",
              " 'purana',\n",
              " 'qila',\n",
              " '7',\n",
              " 'october',\n",
              " '1556',\n",
              " 'month',\n",
              " 'later',\n",
              " 'died',\n",
              " 'battle',\n",
              " 'panipat',\n",
              " 'emperor',\n",
              " 's',\n",
              " 'rule',\n",
              " '42',\n",
              " 'agra',\n",
              " 'fatehpur',\n",
              " 'sikri',\n",
              " '43',\n",
              " 'fall',\n",
              " 'authority',\n",
              " 'power',\n",
              " 'vacuum',\n",
              " 'filled',\n",
              " 'mid',\n",
              " 'army',\n",
              " 'invaded',\n",
              " 'which',\n",
              " 'resulted',\n",
              " 'losing',\n",
              " 'control',\n",
              " 'rohilkhand',\n",
              " 'forces',\n",
              " 'led',\n",
              " 'raghunath',\n",
              " 'malha',\n",
              " 'holkar',\n",
              " 'conflict',\n",
              " 'between',\n",
              " 'marathas',\n",
              " 'end',\n",
              " '18',\n",
              " 'december',\n",
              " '1788',\n",
              " 'arrest',\n",
              " 'ghulam',\n",
              " 'qadir',\n",
              " 'grandson',\n",
              " 'najeeb',\n",
              " 'ud',\n",
              " 'daula',\n",
              " 'who',\n",
              " 'general',\n",
              " 'mahadaji',\n",
              " 'scindia',\n",
              " '1803',\n",
              " '04',\n",
              " 'following',\n",
              " 'anglo',\n",
              " 'war',\n",
              " 'when',\n",
              " 'east',\n",
              " 'company',\n",
              " 'much',\n",
              " 'suzerainty']"
            ]
          },
          "metadata": {},
          "execution_count": 58
        }
      ]
    },
    {
      "cell_type": "code",
      "source": [],
      "metadata": {
        "id": "vlkb-2UeDpix"
      },
      "execution_count": null,
      "outputs": []
    }
  ]
}