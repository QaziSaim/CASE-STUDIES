{
  "nbformat": 4,
  "nbformat_minor": 0,
  "metadata": {
    "colab": {
      "provenance": [],
      "gpuType": "T4",
      "mount_file_id": "1rhb19SXTNcahKOnoCk75S7TpSeYguY9K",
      "authorship_tag": "ABX9TyNd6GH90hTGR3xTPvS2eDzK",
      "include_colab_link": true
    },
    "kernelspec": {
      "name": "python3",
      "display_name": "Python 3"
    },
    "language_info": {
      "name": "python"
    },
    "accelerator": "GPU"
  },
  "cells": [
    {
      "cell_type": "markdown",
      "metadata": {
        "id": "view-in-github",
        "colab_type": "text"
      },
      "source": [
        "<a href=\"https://colab.research.google.com/github/QaziSaim/CASE-STUDIES/blob/main/EasyOCRISGood.ipynb\" target=\"_parent\"><img src=\"https://colab.research.google.com/assets/colab-badge.svg\" alt=\"Open In Colab\"/></a>"
      ]
    },
    {
      "cell_type": "code",
      "source": [
        "%%capture\n",
        "!pip install transformers qwen_vl_utils accelerate>=0.26.0 PEFT -U\n",
        "# !pip install -U bitsandbytes\n"
      ],
      "metadata": {
        "id": "KamUS8rJtuFh"
      },
      "execution_count": 1,
      "outputs": []
    },
    {
      "cell_type": "code",
      "source": [
        "!pip install -q --no-deps xformers trl peft accelerate bitsandbytes"
      ],
      "metadata": {
        "colab": {
          "base_uri": "https://localhost:8080/"
        },
        "id": "h5NYTx-xubqA",
        "outputId": "0630f9dd-11c2-4712-ca98-6451c4200e83"
      },
      "execution_count": 2,
      "outputs": [
        {
          "output_type": "stream",
          "name": "stdout",
          "text": [
            "\u001b[2K   \u001b[90m━━━━━━━━━━━━━━━━━━━━━━━━━━━━━━━━━━━━━━━━\u001b[0m \u001b[32m117.2/117.2 MB\u001b[0m \u001b[31m7.2 MB/s\u001b[0m eta \u001b[36m0:00:00\u001b[0m\n",
            "\u001b[2K   \u001b[90m━━━━━━━━━━━━━━━━━━━━━━━━━━━━━━━━━━━━━━━━\u001b[0m \u001b[32m423.1/423.1 kB\u001b[0m \u001b[31m15.2 MB/s\u001b[0m eta \u001b[36m0:00:00\u001b[0m\n",
            "\u001b[2K   \u001b[90m━━━━━━━━━━━━━━━━━━━━━━━━━━━━━━━━━━━━━━━━\u001b[0m \u001b[32m60.1/60.1 MB\u001b[0m \u001b[31m9.4 MB/s\u001b[0m eta \u001b[36m0:00:00\u001b[0m\n",
            "\u001b[?25h"
          ]
        }
      ]
    },
    {
      "cell_type": "code",
      "source": [
        "from google.colab import userdata\n",
        "import os\n",
        "os.environ['HUGGINGFACE_API_KEY']=userdata.get('HUGGINGFACE_API')"
      ],
      "metadata": {
        "id": "aSW4vOQVnN57"
      },
      "execution_count": 3,
      "outputs": []
    },
    {
      "cell_type": "code",
      "source": [
        "path = '/content/image_two.png'"
      ],
      "metadata": {
        "id": "Rv22H7fquSHb"
      },
      "execution_count": 9,
      "outputs": []
    },
    {
      "cell_type": "code",
      "source": [
        "from PIL import Image\n",
        "from transformers import Qwen2VLForConditionalGeneration, AutoProcessor\n",
        "import torch\n",
        "import os\n",
        "from qwen_vl_utils import process_vision_info\n",
        "\n",
        "# ---- 1️⃣ Define your image path ----\n",
        "image_path = path  # <<=== put your image filename here\n",
        "\n",
        "# ---- 2️⃣ Load model and processor ----\n",
        "model_name = \"oddadmix/Qaari-0.1-Urdu-OCR-VL-2B-Instruct\"\n",
        "model = Qwen2VLForConditionalGeneration.from_pretrained(\n",
        "    model_name,\n",
        "    torch_dtype=\"auto\",\n",
        "    device_map=\"auto\"\n",
        ")\n",
        "processor = AutoProcessor.from_pretrained(model_name)\n",
        "\n",
        "max_tokens = 2000\n",
        "prompt = (\n",
        "    \"Below is the image of one page of a document. \"\n",
        "    \"Return the plain Urdu text as if you were reading it naturally. \"\n",
        "    \"Do not hallucinate.\"\n",
        ")\n",
        "\n",
        "# ---- 3️⃣ Load and (optionally) re-save image ----\n",
        "image = Image.open(image_path).convert(\"RGB\")\n",
        "image.save(\"image_temp.png\")  # optional, if you want a local temp copy\n",
        "\n",
        "# ---- 4️⃣ Prepare chat message for vision input ----\n",
        "messages = [\n",
        "    {\n",
        "        \"role\": \"user\",\n",
        "        \"content\": [\n",
        "            {\"type\": \"image\", \"image\": f\"file://{os.path.abspath(image_path)}\"},\n",
        "            {\"type\": \"text\", \"text\": prompt},\n",
        "        ],\n",
        "    }\n",
        "]\n",
        "\n",
        "# ---- 5️⃣ Process and run inference ----\n",
        "text = processor.apply_chat_template(messages, tokenize=False, add_generation_prompt=True)\n",
        "image_inputs, video_inputs = process_vision_info(messages)\n",
        "\n",
        "inputs = processor(\n",
        "    text=[text],\n",
        "    images=image_inputs,\n",
        "    videos=video_inputs,\n",
        "    padding=True,\n",
        "    return_tensors=\"pt\",\n",
        ").to(\"cuda\")\n",
        "\n",
        "generated_ids = model.generate(**inputs, max_new_tokens=max_tokens)\n",
        "generated_ids_trimmed = [\n",
        "    out_ids[len(in_ids):] for in_ids, out_ids in zip(inputs.input_ids, generated_ids)\n",
        "]\n",
        "output_text = processor.batch_decode(\n",
        "    generated_ids_trimmed,\n",
        "    skip_special_tokens=True,\n",
        "    clean_up_tokenization_spaces=False\n",
        ")[0]\n",
        "\n",
        "# ---- 6️⃣ Show result ----\n",
        "print(\"📝 Extracted Urdu Text:\\n\")\n",
        "print(output_text)\n",
        "\n",
        "# (Optional) Clean up temp file\n",
        "os.remove(\"image_temp.png\")\n"
      ],
      "metadata": {
        "colab": {
          "base_uri": "https://localhost:8080/"
        },
        "id": "gAELgdGXr_JS",
        "outputId": "0e36f575-37a6-4a93-9728-c43fe5702407"
      },
      "execution_count": 10,
      "outputs": [
        {
          "output_type": "stream",
          "name": "stdout",
          "text": [
            "📝 Extracted Urdu Text:\n",
            "\n",
            "ماڈل تاریق نے فراہمیاں میں اندازاتوں کے ساتھ گزشتہ جنگاتے کے والکے کفرہوں نے اورلوں اں کٹوئل کرلیں تو سب کافرہا ہے جے کے ساتھ کرلے جنگاتے کے ساتھ محدودیتیں اور کہیں شیاں تاہم دیاوا کیا اوراکھا کیا کے رواجات کے کلے کفرہوں نے اورلوں نے واقعات کے ساتھ گھنگھا چپے رہے اوراں کے ساتھ کفرہوں نے اورلوں نے کام کے اعتراف کرے اورا کرکٹر کے 2021ءاں طریقے کا دو چوڑگی کی گئیںگھنگھے کے ساتھ کی کمپنیاں وابجے سے اوران کی عزت ودھان کے حیات سخت نے اوران کی فخرت نے اے ایڈ اوگنگ کے حیات طاہری میں اور اقتیال فراہے نے اعراجان کا کہے گئے ہمیشہ پرکم پر فزگے تہے جے گئے جب اس کی کہہکاشت ودھٹ کے ساتھ کے ذریعے تاحیے ہوں اوراں کے ذریعے محقق کاصل ہوجے رہے اوراں کے شفیل کے کام کرپرہوں پاپلی گوئل کے ذریعے فزگے ساکت گا چپے گے اورا کے چاہرے ہائی گے گے گاہول کی نہایت کے لیے اوراکھا ہاتے گے چزے پی چتھے کے لیے اوراکھا کا ہاتے گے چزے پی چتھے کے لیے اوراکھا کا ہاتے گے چزے پی چتھے کے لیے اوراکھا کا ہاتے گے چزے پی چتھے کے لیے اوراکھا کا ہاتے گے چزے پی چتھے کے لیے اوراکھا کا ہاتے گے چزے پی چتھے کے لیے اوراکھا کا ہاتے گے چزے پی چتھے کے لیے اوراکھا کا ہاتے گے چزے پی چتھے کے لیے اوراکھا کا ہاتے گے چزے پی چتھے کے لیے اوراکھا کا ہاتے گے چزے پی چتھے کے لیے اوراکھا کا ہاتے گے چزے پی چتھے کے لیے اوراکھا کا ہاتے گے چزے پی چتھے کے لیے اوراکھا کا ہاتے گے چزے پی چتھے کے لیے اوراکھا کا ہاتے گے چزے پی چتھے کے لیے اوراکھا کا ہاتے گے چزے پی چتھے کے لیے اوراکھا کا ہاتے گے چزے پی چتھے کے لیے اوراکھا کا ہاتے گے چزے پی چتھے کے لیے اوراکھا کا ہاتے گے چزے پی چتھے کے لیے اوراکھا کا ہاتے گے چزے پی چتھے کے لیے اوراکھا کا ہاتے گے چزے پی چتھے کے لیے اوراکھا کا ہاتے گے چزے پی چتھے کے لیے اوراکھا کا ہاتے گے چزے پی چتھے کے لیے اوراکھا کا ہاتے گے چزے پی چتھے کے لیے اوراکھا کا ہاتے گے چزے پی چتھے کے لیے اوراکھا کا ہاتے گے چزے پی چتھے کے لیے اوراکھا کا ہاتے گے چزے پی چتھے کے لیے اوراکھا کا ہاتے گے چزے پی چتھے کے لیے اوراکھا کا ہاتے گے چزے پی چتھے کے لیے اوراکھا کا ہاتے گے چزے پی چتھے کے لیے اوراکھا کا ہاتے گے چزے پی چتھے کے لیے اوراکھا کا ہاتے گے چزے پی چتھے کے لیے اوراکھا کا ہاتے گے چزے پی چتھے کے لیے اوراکھا کا ہاتے گے چزے پی چتھے کے لیے اوراکھا کا ہاتے گے چزے پی چتھے کے لیے اوراکھا کا ہاتے گے چزے پی چتھے کے لیے اوراکھا کا ہاتے گے چزے پی چتھے کے لیے اوراکھا کا ہاتے گے چزے پی چتھے کے لیے اوراکھا کا ہاتے گے چزے پی چتھے کے لیے اوراکھا کا ہاتے گے چزے پی چتھے کے لیے اوراکھا کا ہاتے گے چزے پی چتھے کے لیے اوراکھا کا ہاتے گے چزے پی چتھے کے لیے اوراکھا کا ہاتے گے چزے پی چتھے کے لیے اوراکھا کا ہاتے گے چزے پی چتھے کے لیے اوراکھا کا ہاتے گے چزے پی چتھے کے لیے اوراکھا کا ہاتے گے چزے پی چتھے کے لیے اوراکھا کا ہاتے گے چزے پی چتھے کے لیے اوراکھا کا ہاتے گے چزے پی چتھے کے لیے اوراکھا کا\n"
          ]
        }
      ]
    },
    {
      "cell_type": "code",
      "source": [
        "!pip install easyocr"
      ],
      "metadata": {
        "colab": {
          "base_uri": "https://localhost:8080/"
        },
        "id": "Ir8WCc0TGmQP",
        "outputId": "e0363236-2429-49e5-b4b5-96aad9306cb2"
      },
      "execution_count": 11,
      "outputs": [
        {
          "output_type": "stream",
          "name": "stdout",
          "text": [
            "Collecting easyocr\n",
            "  Downloading easyocr-1.7.2-py3-none-any.whl.metadata (10 kB)\n",
            "Requirement already satisfied: torch in /usr/local/lib/python3.12/dist-packages (from easyocr) (2.8.0+cu126)\n",
            "Requirement already satisfied: torchvision>=0.5 in /usr/local/lib/python3.12/dist-packages (from easyocr) (0.23.0+cu126)\n",
            "Requirement already satisfied: opencv-python-headless in /usr/local/lib/python3.12/dist-packages (from easyocr) (4.12.0.88)\n",
            "Requirement already satisfied: scipy in /usr/local/lib/python3.12/dist-packages (from easyocr) (1.16.2)\n",
            "Requirement already satisfied: numpy in /usr/local/lib/python3.12/dist-packages (from easyocr) (2.0.2)\n",
            "Requirement already satisfied: Pillow in /usr/local/lib/python3.12/dist-packages (from easyocr) (11.3.0)\n",
            "Requirement already satisfied: scikit-image in /usr/local/lib/python3.12/dist-packages (from easyocr) (0.25.2)\n",
            "Collecting python-bidi (from easyocr)\n",
            "  Downloading python_bidi-0.6.7-cp312-cp312-manylinux_2_17_x86_64.manylinux2014_x86_64.whl.metadata (4.9 kB)\n",
            "Requirement already satisfied: PyYAML in /usr/local/lib/python3.12/dist-packages (from easyocr) (6.0.3)\n",
            "Requirement already satisfied: Shapely in /usr/local/lib/python3.12/dist-packages (from easyocr) (2.1.2)\n",
            "Collecting pyclipper (from easyocr)\n",
            "  Downloading pyclipper-1.3.0.post6-cp312-cp312-manylinux_2_17_x86_64.manylinux2014_x86_64.whl.metadata (9.0 kB)\n",
            "Collecting ninja (from easyocr)\n",
            "  Downloading ninja-1.13.0-py3-none-manylinux2014_x86_64.manylinux_2_17_x86_64.whl.metadata (5.1 kB)\n",
            "Requirement already satisfied: filelock in /usr/local/lib/python3.12/dist-packages (from torch->easyocr) (3.20.0)\n",
            "Requirement already satisfied: typing-extensions>=4.10.0 in /usr/local/lib/python3.12/dist-packages (from torch->easyocr) (4.15.0)\n",
            "Requirement already satisfied: setuptools in /usr/local/lib/python3.12/dist-packages (from torch->easyocr) (75.2.0)\n",
            "Requirement already satisfied: sympy>=1.13.3 in /usr/local/lib/python3.12/dist-packages (from torch->easyocr) (1.13.3)\n",
            "Requirement already satisfied: networkx in /usr/local/lib/python3.12/dist-packages (from torch->easyocr) (3.5)\n",
            "Requirement already satisfied: jinja2 in /usr/local/lib/python3.12/dist-packages (from torch->easyocr) (3.1.6)\n",
            "Requirement already satisfied: fsspec in /usr/local/lib/python3.12/dist-packages (from torch->easyocr) (2025.3.0)\n",
            "Requirement already satisfied: nvidia-cuda-nvrtc-cu12==12.6.77 in /usr/local/lib/python3.12/dist-packages (from torch->easyocr) (12.6.77)\n",
            "Requirement already satisfied: nvidia-cuda-runtime-cu12==12.6.77 in /usr/local/lib/python3.12/dist-packages (from torch->easyocr) (12.6.77)\n",
            "Requirement already satisfied: nvidia-cuda-cupti-cu12==12.6.80 in /usr/local/lib/python3.12/dist-packages (from torch->easyocr) (12.6.80)\n",
            "Requirement already satisfied: nvidia-cudnn-cu12==9.10.2.21 in /usr/local/lib/python3.12/dist-packages (from torch->easyocr) (9.10.2.21)\n",
            "Requirement already satisfied: nvidia-cublas-cu12==12.6.4.1 in /usr/local/lib/python3.12/dist-packages (from torch->easyocr) (12.6.4.1)\n",
            "Requirement already satisfied: nvidia-cufft-cu12==11.3.0.4 in /usr/local/lib/python3.12/dist-packages (from torch->easyocr) (11.3.0.4)\n",
            "Requirement already satisfied: nvidia-curand-cu12==10.3.7.77 in /usr/local/lib/python3.12/dist-packages (from torch->easyocr) (10.3.7.77)\n",
            "Requirement already satisfied: nvidia-cusolver-cu12==11.7.1.2 in /usr/local/lib/python3.12/dist-packages (from torch->easyocr) (11.7.1.2)\n",
            "Requirement already satisfied: nvidia-cusparse-cu12==12.5.4.2 in /usr/local/lib/python3.12/dist-packages (from torch->easyocr) (12.5.4.2)\n",
            "Requirement already satisfied: nvidia-cusparselt-cu12==0.7.1 in /usr/local/lib/python3.12/dist-packages (from torch->easyocr) (0.7.1)\n",
            "Requirement already satisfied: nvidia-nccl-cu12==2.27.3 in /usr/local/lib/python3.12/dist-packages (from torch->easyocr) (2.27.3)\n",
            "Requirement already satisfied: nvidia-nvtx-cu12==12.6.77 in /usr/local/lib/python3.12/dist-packages (from torch->easyocr) (12.6.77)\n",
            "Requirement already satisfied: nvidia-nvjitlink-cu12==12.6.85 in /usr/local/lib/python3.12/dist-packages (from torch->easyocr) (12.6.85)\n",
            "Requirement already satisfied: nvidia-cufile-cu12==1.11.1.6 in /usr/local/lib/python3.12/dist-packages (from torch->easyocr) (1.11.1.6)\n",
            "Requirement already satisfied: triton==3.4.0 in /usr/local/lib/python3.12/dist-packages (from torch->easyocr) (3.4.0)\n",
            "Requirement already satisfied: imageio!=2.35.0,>=2.33 in /usr/local/lib/python3.12/dist-packages (from scikit-image->easyocr) (2.37.0)\n",
            "Requirement already satisfied: tifffile>=2022.8.12 in /usr/local/lib/python3.12/dist-packages (from scikit-image->easyocr) (2025.10.16)\n",
            "Requirement already satisfied: packaging>=21 in /usr/local/lib/python3.12/dist-packages (from scikit-image->easyocr) (25.0)\n",
            "Requirement already satisfied: lazy-loader>=0.4 in /usr/local/lib/python3.12/dist-packages (from scikit-image->easyocr) (0.4)\n",
            "Requirement already satisfied: mpmath<1.4,>=1.1.0 in /usr/local/lib/python3.12/dist-packages (from sympy>=1.13.3->torch->easyocr) (1.3.0)\n",
            "Requirement already satisfied: MarkupSafe>=2.0 in /usr/local/lib/python3.12/dist-packages (from jinja2->torch->easyocr) (3.0.3)\n",
            "Downloading easyocr-1.7.2-py3-none-any.whl (2.9 MB)\n",
            "\u001b[2K   \u001b[90m━━━━━━━━━━━━━━━━━━━━━━━━━━━━━━━━━━━━━━━━\u001b[0m \u001b[32m2.9/2.9 MB\u001b[0m \u001b[31m51.3 MB/s\u001b[0m eta \u001b[36m0:00:00\u001b[0m\n",
            "\u001b[?25hDownloading ninja-1.13.0-py3-none-manylinux2014_x86_64.manylinux_2_17_x86_64.whl (180 kB)\n",
            "\u001b[2K   \u001b[90m━━━━━━━━━━━━━━━━━━━━━━━━━━━━━━━━━━━━━━━━\u001b[0m \u001b[32m180.7/180.7 kB\u001b[0m \u001b[31m18.6 MB/s\u001b[0m eta \u001b[36m0:00:00\u001b[0m\n",
            "\u001b[?25hDownloading pyclipper-1.3.0.post6-cp312-cp312-manylinux_2_17_x86_64.manylinux2014_x86_64.whl (963 kB)\n",
            "\u001b[2K   \u001b[90m━━━━━━━━━━━━━━━━━━━━━━━━━━━━━━━━━━━━━━━━\u001b[0m \u001b[32m963.8/963.8 kB\u001b[0m \u001b[31m71.9 MB/s\u001b[0m eta \u001b[36m0:00:00\u001b[0m\n",
            "\u001b[?25hDownloading python_bidi-0.6.7-cp312-cp312-manylinux_2_17_x86_64.manylinux2014_x86_64.whl (300 kB)\n",
            "\u001b[2K   \u001b[90m━━━━━━━━━━━━━━━━━━━━━━━━━━━━━━━━━━━━━━━━\u001b[0m \u001b[32m300.6/300.6 kB\u001b[0m \u001b[31m30.6 MB/s\u001b[0m eta \u001b[36m0:00:00\u001b[0m\n",
            "\u001b[?25hInstalling collected packages: python-bidi, pyclipper, ninja, easyocr\n",
            "Successfully installed easyocr-1.7.2 ninja-1.13.0 pyclipper-1.3.0.post6 python-bidi-0.6.7\n"
          ]
        }
      ]
    },
    {
      "cell_type": "code",
      "source": [
        "import easyocr\n",
        "\n",
        "reader = easyocr.Reader(['ur'])  # Urdu\n",
        "results = reader.readtext(path)\n",
        "\n",
        "for (_, text, conf) in results:\n",
        "    print(f\"{text} (Confidence: {conf:.2f})\")\n"
      ],
      "metadata": {
        "id": "_TCi69kvu9dg",
        "colab": {
          "base_uri": "https://localhost:8080/"
        },
        "outputId": "89c88dc9-e677-41ab-b679-0550a43af39b"
      },
      "execution_count": 12,
      "outputs": [
        {
          "output_type": "stream",
          "name": "stderr",
          "text": [
            "WARNING:easyocr.easyocr:Downloading detection model, please wait. This may take several minutes depending upon your network connection.\n"
          ]
        },
        {
          "output_type": "stream",
          "name": "stdout",
          "text": [
            "Progress: |██████████████████████████████████████████████████| 100.0% Complete"
          ]
        },
        {
          "output_type": "stream",
          "name": "stderr",
          "text": [
            "WARNING:easyocr.easyocr:Downloading recognition model, please wait. This may take several minutes depending upon your network connection.\n"
          ]
        },
        {
          "output_type": "stream",
          "name": "stdout",
          "text": [
            "Progress: |██████████████████████████████████████████████████| 100.0% Completeطای قارینفرایا\" جمعالفتاوی 'مسےآکروعظ وھیحت کنےوالار : (Confidence: 0.07)\n",
            "کفربولے اورلوگ اسل کوقبول کرلیں توسب کافر اوجامی ے ءالۓے كلوک (Confidence: 0.04)\n",
            "جہلے ببمعذوریں اور\" میط'ممی اتتازیادوکيا : اورکها کیا کماکرداعظے (Confidence: 0.05)\n",
            "کر کفربوۓے بعدلوگول_ واعظے کچھنہکہاچپپ رےءاورایے (Confidence: 0.12)\n",
            "البےرے کافرتاوجامں _ ولیمن جکهییجات ہول کدوا ییبات کرەكر (Confidence: 0.01)\n",
            "کافرہوکیا ءیااسی کكلام پراعقادکری اوراگرقاآل ]٢ے'[ای ریتے کا (Confidence: 0.06)\n",
            "وە چرجی نیق ےحتق ی نہبانی واجب ےءاوران کیعزت دنامول ک (Confidence: 0.03)\n",
            "حمایت تعین ےء اوران یانحرت ءانےایذا ودفع کرےےحیات ناریی (Confidence: 0.08)\n",
            "اوراغقال فرانے بعدان کاحقےین برمون پفضینےءین جب (Confidence: 0.09)\n",
            "اسق یانگہداشت ومخص کرےجسس ے ذرلیوق غالب او٠ اُورای ۓ (Confidence: 0.02)\n",
            "قم ظابرہواوباق لوکول (Confidence: 0.13)\n",
            "ذرلیوای مقدمہ کافیصل 8وجاۓ ُاورال کنیا (Confidence: 0.03)\n",
            "کذممےفض ساقط اوجاۓ کاءاوراخباب کاحم باق رےکاء واہول ك (Confidence: 0.09)\n",
            "زیادقیسے اورالك باتے قذیرک تقویت سے ,اورسلف اای بات (Confidence: 0.03)\n",
            "راجاۓے کەعلث مںم کاعال بان کاحاۓ کالینال کروات ال (Confidence: 0.07)\n"
          ]
        }
      ]
    },
    {
      "cell_type": "code",
      "source": [
        "!sudo apt install tesseract-ocr-urd\n",
        "!pip install pytesseract"
      ],
      "metadata": {
        "colab": {
          "base_uri": "https://localhost:8080/"
        },
        "id": "UJWvwtk1Gr8q",
        "outputId": "0a58bb35-6f0a-4350-fe70-899db83499e0"
      },
      "execution_count": 15,
      "outputs": [
        {
          "output_type": "stream",
          "name": "stdout",
          "text": [
            "Reading package lists... Done\n",
            "Building dependency tree... Done\n",
            "Reading state information... Done\n",
            "tesseract-ocr-urd is already the newest version (1:4.00~git30-7274cfa-1.1).\n",
            "0 upgraded, 0 newly installed, 0 to remove and 38 not upgraded.\n",
            "Collecting pytesseract\n",
            "  Downloading pytesseract-0.3.13-py3-none-any.whl.metadata (11 kB)\n",
            "Requirement already satisfied: packaging>=21.3 in /usr/local/lib/python3.12/dist-packages (from pytesseract) (25.0)\n",
            "Requirement already satisfied: Pillow>=8.0.0 in /usr/local/lib/python3.12/dist-packages (from pytesseract) (11.3.0)\n",
            "Downloading pytesseract-0.3.13-py3-none-any.whl (14 kB)\n",
            "Installing collected packages: pytesseract\n",
            "Successfully installed pytesseract-0.3.13\n"
          ]
        }
      ]
    },
    {
      "cell_type": "code",
      "source": [
        "import pytesseract\n",
        "from PIL import Image\n",
        "\n",
        "img = Image.open(path)\n",
        "text = pytesseract.image_to_string(img, lang='urd')\n",
        "print(text)\n"
      ],
      "metadata": {
        "colab": {
          "base_uri": "https://localhost:8080/"
        },
        "id": "8bFiSuBsHLt3",
        "outputId": "a756259a-3b58-44a5-8f60-870bc100c8e9"
      },
      "execution_count": 16,
      "outputs": [
        {
          "output_type": "stream",
          "name": "stdout",
          "text": [
            "طائی ا رکی نے فر مایا مع اتا وی یس ہے اگر وعنا یح ت ککینے دا لاک\n",
            "کفربو لے اور لوگ ا سکوقو لک ریش تے س بکافر ہو ہیں گے اسل ےکراوگ\n",
            "لی کےس بب معنر ور او مس اتا ز یاد کیا :او کہاگ یا گر داع کے\n",
            "کل فکف ہو لے کے بعداوکوں نے داخظ سے بن ہکہا چپ رہے :اددال کے\n",
            "پاکی ٹیٹھ دہ ہکافر ہو ای کے مین خی جات ہو ںکردوی با تک ےر\n",
            "کاخ ہوگیاءیاال کےککام پرا تق کی او راگ ال (۴ے٣)‏ اس مر یق کا نہ\n",
            "بہ گرم ن لنٹ ےت کی نکہبانی واجپ ےءاوران: عزت دنا مو لک\n",
            "ات ضتان ہے+اورا نکی ضصرت ءان سے انذ اود کر کے ضیات نا ہرکی ٹل\n",
            "اوہ اتال فرمانے کے بحدا نکاتقی ہے ہش ہ ون پرفر مین ہے یکن جب\n",
            "ا ق نکی گہداشت وچنخ سکرے جس کے ذد کرت غااب ہوہ اود ای کے\n",
            "ذدر یراس مقد کا فیصلہہوجاۓ :اوراس کے ٹیم ےگ ظاہر ہاو باق یں\n",
            "کے ذم سے فرص ساقط ہو جا ۓےگاء اد ابا بکاعم باقی ر ہےگاءگواہو لک\n",
            "زیادٹی کے لع اوداری بات سےتھ وک یتقو یت کے لے ءاورسل فکااس بات\n",
            "باہمارئ ےکعدث ٹس متھ کا حال ہما نکیا جات ےگا شڑنی ال لک ردیت ال\n",
            "\f\n"
          ]
        }
      ]
    },
    {
      "cell_type": "code",
      "source": [],
      "metadata": {
        "id": "S4MrXLQGHRbA"
      },
      "execution_count": null,
      "outputs": []
    }
  ]
}